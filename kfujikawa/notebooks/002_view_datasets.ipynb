{
 "cells": [
  {
   "cell_type": "markdown",
   "metadata": {},
   "source": [
    "# Getting started with the EB-NeRD"
   ]
  },
  {
   "cell_type": "code",
   "execution_count": 1,
   "metadata": {},
   "outputs": [],
   "source": [
    "import polars as pl\n",
    "from matplotlib_venn import venn3\n",
    "\n",
    "from ebrec.utils._constants import (\n",
    "    DEFAULT_HISTORY_IMPRESSION_TIMESTAMP_COL,\n",
    "    DEFAULT_IMPRESSION_TIMESTAMP_COL,\n",
    ")\n",
    "from exputils.const import DATA_DIR"
   ]
  },
  {
   "cell_type": "markdown",
   "metadata": {},
   "source": [
    "## 1. Load dataset"
   ]
  },
  {
   "cell_type": "code",
   "execution_count": 2,
   "metadata": {},
   "outputs": [],
   "source": [
    "data_dirs = {\n",
    "    \"train\": DATA_DIR / \"ebnerd\" / \"train\",\n",
    "    \"validation\": DATA_DIR / \"ebnerd\" / \"validation\",\n",
    "    \"test\": DATA_DIR / \"ebnerd\" / \"ebnerd_testset\" / \"test\",\n",
    "}"
   ]
  },
  {
   "cell_type": "markdown",
   "metadata": {},
   "source": [
    "### 1.1. Behaviors\n",
    "\n",
    "| # | Column | Context | Example |\n",
    "|---|--------|---------|---------|\n",
    "| 1 | impression_id | The ID of an impression. | 153 |\n",
    "| 2 | user_id | The anonymized user ID. | 44038 |\n",
    "| 3 | article_id | (※ Train / Valid only) The unique ID of a news article. An empty field means the impression is from the front page. | 9650148 |\n",
    "| 4 | session_id | A unique identifier for a user's browsing session. | 1153 |\n",
    "| 5 | article_ids_inview | List of inview news articles in the impression (news articles that was registered as seen by the user). The orders of the IDs have been shuffled. | [9649538, 9649689, … 9649569] |\n",
    "| 6 | article_ids_clicked | (※ Train / Valid only) List of news articles clicked in the impression. | [9649689] |\n",
    "| 7 | impression_time | The impression timestamp. The format is \"YYYY/MM/DD HH:MM:SS\". | 2023-02-25 06:41:40 |\n",
    "| 8 | read_time | The amount of seconds a user spend on a given page. | 14.0 |\n",
    "| 9 | scroll_percentage | The percentage of an article that a user scrolls through, indicating how much of the content was potentially viewed. | 100.0 |\n",
    "| 10 | device_type | The type of device used to access the content, such as desktop (1) mobile (2), tablet (3), or unknown (0). | 1 |\n",
    "| 11 | is_sso_user | Indicates whether a user is logged in through Single Sign-On (SSO) authentication. | True |\n",
    "| 13 | is_subscriber | The user's subscription status, indicating whether they are a paid subscriber. | True |\n",
    "| 14 | gender | The gender of the user, either Male (0) or Female (1), as specified in their profile. | null |\n",
    "| 15 | postcode | The user's postcode, aggregated at the district level as specified in their profile, with metropolitan (0), rural district (1), municipality (2), provincial (3), big city (4). | 2 |\n",
    "| 16 | age | The age of the user, as specified in their profile, categorized into bins of 10 years (e.g., 20-29, 30-39 etc.). | 50 |\n",
    "| 17 | next_read_time | (※ Train / Valid only) The time a user spends on the next clicked article, i.e., the article in Clicked Article IDs. | 8.0 |\n",
    "| 18 | next_scroll_percentage | (※ Train / Valid only) The scroll percentage for a user's next article interaction, i.e., the article in Clicked Article IDs. | 41.0 |"
   ]
  },
  {
   "cell_type": "code",
   "execution_count": 3,
   "metadata": {},
   "outputs": [
    {
     "data": {
      "text/html": [
       "<div><style>\n",
       ".dataframe > thead > tr,\n",
       ".dataframe > tbody > tr {\n",
       "  text-align: right;\n",
       "  white-space: pre-wrap;\n",
       "}\n",
       "</style>\n",
       "<small>shape: (38_166_985, 19)</small><table border=\"1\" class=\"dataframe\"><thead><tr><th>impression_id</th><th>article_id</th><th>impression_time</th><th>read_time</th><th>scroll_percentage</th><th>device_type</th><th>article_ids_inview</th><th>article_ids_clicked</th><th>user_id</th><th>is_sso_user</th><th>gender</th><th>postcode</th><th>age</th><th>is_subscriber</th><th>session_id</th><th>next_read_time</th><th>next_scroll_percentage</th><th>data_split</th><th>is_beyond_accuracy</th></tr><tr><td>u32</td><td>i32</td><td>datetime[μs]</td><td>f32</td><td>f32</td><td>i8</td><td>list[i32]</td><td>list[i32]</td><td>u32</td><td>bool</td><td>i8</td><td>i8</td><td>i8</td><td>bool</td><td>u32</td><td>f32</td><td>f32</td><td>str</td><td>bool</td></tr></thead><tbody><tr><td>47727</td><td>null</td><td>2023-05-21 21:35:07</td><td>20.0</td><td>null</td><td>1</td><td>[9482380, 9775183, … 9538375]</td><td>[9775183]</td><td>18293</td><td>false</td><td>null</td><td>null</td><td>null</td><td>false</td><td>265</td><td>34.0</td><td>100.0</td><td>&quot;train&quot;</td><td>null</td></tr><tr><td>47731</td><td>null</td><td>2023-05-21 21:32:33</td><td>13.0</td><td>null</td><td>1</td><td>[9774557, 9774516, … 9759966]</td><td>[9759966]</td><td>18293</td><td>false</td><td>null</td><td>null</td><td>null</td><td>false</td><td>265</td><td>45.0</td><td>100.0</td><td>&quot;train&quot;</td><td>null</td></tr><tr><td>47736</td><td>null</td><td>2023-05-21 21:33:32</td><td>17.0</td><td>null</td><td>1</td><td>[9759966, 9774557, … 9775323]</td><td>[9774652]</td><td>18293</td><td>false</td><td>null</td><td>null</td><td>null</td><td>false</td><td>265</td><td>78.0</td><td>100.0</td><td>&quot;train&quot;</td><td>null</td></tr><tr><td>47737</td><td>null</td><td>2023-05-21 21:38:17</td><td>27.0</td><td>null</td><td>1</td><td>[9774580, 9775131, … 9774899]</td><td>[9775184]</td><td>18293</td><td>false</td><td>null</td><td>null</td><td>null</td><td>false</td><td>265</td><td>6.0</td><td>52.0</td><td>&quot;train&quot;</td><td>null</td></tr><tr><td>47740</td><td>null</td><td>2023-05-21 21:36:02</td><td>48.0</td><td>null</td><td>1</td><td>[9774826, 9775171, … 9774648]</td><td>[9774648]</td><td>18293</td><td>false</td><td>null</td><td>null</td><td>null</td><td>false</td><td>265</td><td>32.0</td><td>100.0</td><td>&quot;train&quot;</td><td>null</td></tr><tr><td>&hellip;</td><td>&hellip;</td><td>&hellip;</td><td>&hellip;</td><td>&hellip;</td><td>&hellip;</td><td>&hellip;</td><td>&hellip;</td><td>&hellip;</td><td>&hellip;</td><td>&hellip;</td><td>&hellip;</td><td>&hellip;</td><td>&hellip;</td><td>&hellip;</td><td>&hellip;</td><td>&hellip;</td><td>&hellip;</td><td>&hellip;</td></tr><tr><td>0</td><td>null</td><td>2023-06-01 07:00:01</td><td>0.0</td><td>null</td><td>0</td><td>[9793163, 9793069, … 9789545]</td><td>null</td><td>1589163</td><td>false</td><td>null</td><td>null</td><td>null</td><td>false</td><td>0</td><td>null</td><td>null</td><td>&quot;test&quot;</td><td>true</td></tr><tr><td>0</td><td>null</td><td>2023-06-01 07:00:01</td><td>0.0</td><td>null</td><td>0</td><td>[9793163, 9793069, … 9789545]</td><td>null</td><td>1699456</td><td>false</td><td>null</td><td>null</td><td>null</td><td>false</td><td>0</td><td>null</td><td>null</td><td>&quot;test&quot;</td><td>true</td></tr><tr><td>0</td><td>null</td><td>2023-06-01 07:00:01</td><td>0.0</td><td>null</td><td>0</td><td>[9793163, 9793069, … 9789545]</td><td>null</td><td>635479</td><td>false</td><td>null</td><td>null</td><td>null</td><td>false</td><td>0</td><td>null</td><td>null</td><td>&quot;test&quot;</td><td>true</td></tr><tr><td>0</td><td>null</td><td>2023-06-01 07:00:01</td><td>0.0</td><td>null</td><td>0</td><td>[9793163, 9793069, … 9789545]</td><td>null</td><td>251030</td><td>false</td><td>null</td><td>null</td><td>null</td><td>false</td><td>0</td><td>null</td><td>null</td><td>&quot;test&quot;</td><td>true</td></tr><tr><td>0</td><td>null</td><td>2023-06-01 07:00:01</td><td>0.0</td><td>null</td><td>0</td><td>[9793163, 9793069, … 9789545]</td><td>null</td><td>1225161</td><td>false</td><td>null</td><td>null</td><td>null</td><td>false</td><td>0</td><td>null</td><td>null</td><td>&quot;test&quot;</td><td>true</td></tr></tbody></table></div>"
      ],
      "text/plain": [
       "shape: (38_166_985, 19)\n",
       "┌───────────┬───────────┬───────────┬───────────┬───┬───────────┬───────────┬───────────┬──────────┐\n",
       "│ impressio ┆ article_i ┆ impressio ┆ read_time ┆ … ┆ next_read ┆ next_scro ┆ data_spli ┆ is_beyon │\n",
       "│ n_id      ┆ d         ┆ n_time    ┆ ---       ┆   ┆ _time     ┆ ll_percen ┆ t         ┆ d_accura │\n",
       "│ ---       ┆ ---       ┆ ---       ┆ f32       ┆   ┆ ---       ┆ tage      ┆ ---       ┆ cy       │\n",
       "│ u32       ┆ i32       ┆ datetime[ ┆           ┆   ┆ f32       ┆ ---       ┆ str       ┆ ---      │\n",
       "│           ┆           ┆ μs]       ┆           ┆   ┆           ┆ f32       ┆           ┆ bool     │\n",
       "╞═══════════╪═══════════╪═══════════╪═══════════╪═══╪═══════════╪═══════════╪═══════════╪══════════╡\n",
       "│ 47727     ┆ null      ┆ 2023-05-2 ┆ 20.0      ┆ … ┆ 34.0      ┆ 100.0     ┆ train     ┆ null     │\n",
       "│           ┆           ┆ 1         ┆           ┆   ┆           ┆           ┆           ┆          │\n",
       "│           ┆           ┆ 21:35:07  ┆           ┆   ┆           ┆           ┆           ┆          │\n",
       "│ 47731     ┆ null      ┆ 2023-05-2 ┆ 13.0      ┆ … ┆ 45.0      ┆ 100.0     ┆ train     ┆ null     │\n",
       "│           ┆           ┆ 1         ┆           ┆   ┆           ┆           ┆           ┆          │\n",
       "│           ┆           ┆ 21:32:33  ┆           ┆   ┆           ┆           ┆           ┆          │\n",
       "│ 47736     ┆ null      ┆ 2023-05-2 ┆ 17.0      ┆ … ┆ 78.0      ┆ 100.0     ┆ train     ┆ null     │\n",
       "│           ┆           ┆ 1         ┆           ┆   ┆           ┆           ┆           ┆          │\n",
       "│           ┆           ┆ 21:33:32  ┆           ┆   ┆           ┆           ┆           ┆          │\n",
       "│ 47737     ┆ null      ┆ 2023-05-2 ┆ 27.0      ┆ … ┆ 6.0       ┆ 52.0      ┆ train     ┆ null     │\n",
       "│           ┆           ┆ 1         ┆           ┆   ┆           ┆           ┆           ┆          │\n",
       "│           ┆           ┆ 21:38:17  ┆           ┆   ┆           ┆           ┆           ┆          │\n",
       "│ 47740     ┆ null      ┆ 2023-05-2 ┆ 48.0      ┆ … ┆ 32.0      ┆ 100.0     ┆ train     ┆ null     │\n",
       "│           ┆           ┆ 1         ┆           ┆   ┆           ┆           ┆           ┆          │\n",
       "│           ┆           ┆ 21:36:02  ┆           ┆   ┆           ┆           ┆           ┆          │\n",
       "│ …         ┆ …         ┆ …         ┆ …         ┆ … ┆ …         ┆ …         ┆ …         ┆ …        │\n",
       "│ 0         ┆ null      ┆ 2023-06-0 ┆ 0.0       ┆ … ┆ null      ┆ null      ┆ test      ┆ true     │\n",
       "│           ┆           ┆ 1         ┆           ┆   ┆           ┆           ┆           ┆          │\n",
       "│           ┆           ┆ 07:00:01  ┆           ┆   ┆           ┆           ┆           ┆          │\n",
       "│ 0         ┆ null      ┆ 2023-06-0 ┆ 0.0       ┆ … ┆ null      ┆ null      ┆ test      ┆ true     │\n",
       "│           ┆           ┆ 1         ┆           ┆   ┆           ┆           ┆           ┆          │\n",
       "│           ┆           ┆ 07:00:01  ┆           ┆   ┆           ┆           ┆           ┆          │\n",
       "│ 0         ┆ null      ┆ 2023-06-0 ┆ 0.0       ┆ … ┆ null      ┆ null      ┆ test      ┆ true     │\n",
       "│           ┆           ┆ 1         ┆           ┆   ┆           ┆           ┆           ┆          │\n",
       "│           ┆           ┆ 07:00:01  ┆           ┆   ┆           ┆           ┆           ┆          │\n",
       "│ 0         ┆ null      ┆ 2023-06-0 ┆ 0.0       ┆ … ┆ null      ┆ null      ┆ test      ┆ true     │\n",
       "│           ┆           ┆ 1         ┆           ┆   ┆           ┆           ┆           ┆          │\n",
       "│           ┆           ┆ 07:00:01  ┆           ┆   ┆           ┆           ┆           ┆          │\n",
       "│ 0         ┆ null      ┆ 2023-06-0 ┆ 0.0       ┆ … ┆ null      ┆ null      ┆ test      ┆ true     │\n",
       "│           ┆           ┆ 1         ┆           ┆   ┆           ┆           ┆           ┆          │\n",
       "│           ┆           ┆ 07:00:01  ┆           ┆   ┆           ┆           ┆           ┆          │\n",
       "└───────────┴───────────┴───────────┴───────────┴───┴───────────┴───────────┴───────────┴──────────┘"
      ]
     },
     "execution_count": 3,
     "metadata": {},
     "output_type": "execute_result"
    }
   ],
   "source": [
    "df_behaviors = pl.concat(\n",
    "    [\n",
    "        pl.scan_parquet(data_dir / \"behaviors.parquet\").with_columns(\n",
    "            pl.lit(data_split).alias(\"data_split\"),\n",
    "        )\n",
    "        for data_split, data_dir in data_dirs.items()\n",
    "    ],\n",
    "    how=\"diagonal\",\n",
    ")\n",
    "df_behaviors.collect()"
   ]
  },
  {
   "cell_type": "markdown",
   "metadata": {},
   "source": [
    "### 1.2. History\n",
    "\n",
    "| # | Column | Context | Example |\n",
    "|---|--------|---------|---------|\n",
    "| 1 | user_id | The anonymized user ID. | 44038 |\n",
    "| 2 | article_id_fixed | The articles clicked by the user. | [9618533, … 9646154] |\n",
    "| 3 | impression_time_fixed | The timestamps of when the articles were clicked. The format is \"YYYY/MM/DD HH:MM:SS\". | [2023-02-02 16:37:42, … 2023-02-22 18:28:38] |\n",
    "| 4 | read_time_fixed | The read times of the clicked articles. | [425.0, … 12.0] |\n",
    "| 5 | scroll_percentage_fixed | The scroll percentages of the clicked articles. | [null, … 100.0] |"
   ]
  },
  {
   "cell_type": "code",
   "execution_count": 4,
   "metadata": {},
   "outputs": [
    {
     "data": {
      "text/html": [
       "<div><style>\n",
       ".dataframe > thead > tr,\n",
       ".dataframe > tbody > tr {\n",
       "  text-align: right;\n",
       "  white-space: pre-wrap;\n",
       "}\n",
       "</style>\n",
       "<small>shape: (2_387_349, 6)</small><table border=\"1\" class=\"dataframe\"><thead><tr><th>user_id</th><th>impression_time_fixed</th><th>scroll_percentage_fixed</th><th>article_id_fixed</th><th>read_time_fixed</th><th>data_split</th></tr><tr><td>u32</td><td>list[datetime[μs]]</td><td>list[f32]</td><td>list[i32]</td><td>list[f32]</td><td>str</td></tr></thead><tbody><tr><td>10029</td><td>[2023-04-28 06:16:57, 2023-04-28 06:17:31, … 2023-05-18 06:59:50]</td><td>[23.0, 69.0, … null]</td><td>[9735579, 9739888, … 9770541]</td><td>[28.0, 24.0, … 0.0]</td><td>&quot;train&quot;</td></tr><tr><td>10033</td><td>[2023-04-27 11:11:32, 2023-04-27 11:12:56, … 2023-05-17 20:22:42]</td><td>[33.0, 41.0, … 29.0]</td><td>[9738139, 9738263, … 9769404]</td><td>[2.0, 2.0, … 1.0]</td><td>&quot;train&quot;</td></tr><tr><td>10034</td><td>[2023-04-30 09:46:57, 2023-04-30 09:47:33, … 2023-05-16 08:40:52]</td><td>[null, 88.0, … 100.0]</td><td>[9742693, 9742686, … 9767363]</td><td>[21.0, 103.0, … 9.0]</td><td>&quot;train&quot;</td></tr><tr><td>10041</td><td>[2023-04-27 15:15:28, 2023-04-27 15:16:30, … 2023-05-17 14:54:05]</td><td>[78.0, 41.0, … 57.0]</td><td>[9739035, 9738303, … 9757869]</td><td>[12.0, 11.0, … 22.0]</td><td>&quot;train&quot;</td></tr><tr><td>10103</td><td>[2023-04-27 15:37:35, 2023-04-27 15:38:37, … 2023-05-18 04:52:09]</td><td>[100.0, null, … 63.0]</td><td>[9739035, 9739164, … 9769433]</td><td>[45.0, 8.0, … 24.0]</td><td>&quot;train&quot;</td></tr><tr><td>&hellip;</td><td>&hellip;</td><td>&hellip;</td><td>&hellip;</td><td>&hellip;</td><td>&hellip;</td></tr><tr><td>1522546</td><td>[2023-05-27 08:21:44, 2023-05-27 08:22:48, … 2023-05-27 08:25:15]</td><td>[100.0, 32.0, … 39.0]</td><td>[9782645, 9782929, … 9781991]</td><td>[64.0, 10.0, … 2.0]</td><td>&quot;test&quot;</td></tr><tr><td>599984</td><td>[2023-05-13 23:04:56, 2023-05-13 23:07:42, … 2023-05-13 23:11:41]</td><td>[100.0, 56.0, … 69.0]</td><td>[9759355, 9764086, … 9763857]</td><td>[166.0, 8.0, … 12.0]</td><td>&quot;test&quot;</td></tr><tr><td>1086197</td><td>[2023-05-14 21:11:26, 2023-05-14 21:15:41, … 2023-05-14 21:20:14]</td><td>[null, 42.0, … 74.0]</td><td>[9740843, 9765450, … 9765175]</td><td>[249.0, 5.0, … 10.0]</td><td>&quot;test&quot;</td></tr><tr><td>1310240</td><td>[2023-05-22 12:48:10, 2023-05-22 12:48:21, … 2023-05-22 12:50:32]</td><td>[100.0, 64.0, … 21.0]</td><td>[9776041, 9775964, … 9775800]</td><td>[6.0, 8.0, … 3.0]</td><td>&quot;test&quot;</td></tr><tr><td>2081381</td><td>[2023-05-18 10:20:17, 2023-05-18 10:20:38, … 2023-05-18 10:40:56]</td><td>[10.0, null, … null]</td><td>[9770369, 9771242, … 9771237]</td><td>[19.0, 1.0, … 1.0]</td><td>&quot;test&quot;</td></tr></tbody></table></div>"
      ],
      "text/plain": [
       "shape: (2_387_349, 6)\n",
       "┌─────────┬──────────────────┬──────────────────┬──────────────────┬──────────────────┬────────────┐\n",
       "│ user_id ┆ impression_time_ ┆ scroll_percentag ┆ article_id_fixed ┆ read_time_fixed  ┆ data_split │\n",
       "│ ---     ┆ fixed            ┆ e_fixed          ┆ ---              ┆ ---              ┆ ---        │\n",
       "│ u32     ┆ ---              ┆ ---              ┆ list[i32]        ┆ list[f32]        ┆ str        │\n",
       "│         ┆ list[datetime[μs ┆ list[f32]        ┆                  ┆                  ┆            │\n",
       "│         ┆ ]]               ┆                  ┆                  ┆                  ┆            │\n",
       "╞═════════╪══════════════════╪══════════════════╪══════════════════╪══════════════════╪════════════╡\n",
       "│ 10029   ┆ [2023-04-28      ┆ [23.0, 69.0, …   ┆ [9735579,        ┆ [28.0, 24.0, …   ┆ train      │\n",
       "│         ┆ 06:16:57,        ┆ null]            ┆ 9739888, …       ┆ 0.0]             ┆            │\n",
       "│         ┆ 2023-04-28…      ┆                  ┆ 9770541]         ┆                  ┆            │\n",
       "│ 10033   ┆ [2023-04-27      ┆ [33.0, 41.0, …   ┆ [9738139,        ┆ [2.0, 2.0, …     ┆ train      │\n",
       "│         ┆ 11:11:32,        ┆ 29.0]            ┆ 9738263, …       ┆ 1.0]             ┆            │\n",
       "│         ┆ 2023-04-27…      ┆                  ┆ 9769404]         ┆                  ┆            │\n",
       "│ 10034   ┆ [2023-04-30      ┆ [null, 88.0, …   ┆ [9742693,        ┆ [21.0, 103.0, …  ┆ train      │\n",
       "│         ┆ 09:46:57,        ┆ 100.0]           ┆ 9742686, …       ┆ 9.0]             ┆            │\n",
       "│         ┆ 2023-04-30…      ┆                  ┆ 9767363]         ┆                  ┆            │\n",
       "│ 10041   ┆ [2023-04-27      ┆ [78.0, 41.0, …   ┆ [9739035,        ┆ [12.0, 11.0, …   ┆ train      │\n",
       "│         ┆ 15:15:28,        ┆ 57.0]            ┆ 9738303, …       ┆ 22.0]            ┆            │\n",
       "│         ┆ 2023-04-27…      ┆                  ┆ 9757869]         ┆                  ┆            │\n",
       "│ 10103   ┆ [2023-04-27      ┆ [100.0, null, …  ┆ [9739035,        ┆ [45.0, 8.0, …    ┆ train      │\n",
       "│         ┆ 15:37:35,        ┆ 63.0]            ┆ 9739164, …       ┆ 24.0]            ┆            │\n",
       "│         ┆ 2023-04-27…      ┆                  ┆ 9769433]         ┆                  ┆            │\n",
       "│ …       ┆ …                ┆ …                ┆ …                ┆ …                ┆ …          │\n",
       "│ 1522546 ┆ [2023-05-27      ┆ [100.0, 32.0, …  ┆ [9782645,        ┆ [64.0, 10.0, …   ┆ test       │\n",
       "│         ┆ 08:21:44,        ┆ 39.0]            ┆ 9782929, …       ┆ 2.0]             ┆            │\n",
       "│         ┆ 2023-05-27…      ┆                  ┆ 9781991]         ┆                  ┆            │\n",
       "│ 599984  ┆ [2023-05-13      ┆ [100.0, 56.0, …  ┆ [9759355,        ┆ [166.0, 8.0, …   ┆ test       │\n",
       "│         ┆ 23:04:56,        ┆ 69.0]            ┆ 9764086, …       ┆ 12.0]            ┆            │\n",
       "│         ┆ 2023-05-13…      ┆                  ┆ 9763857]         ┆                  ┆            │\n",
       "│ 1086197 ┆ [2023-05-14      ┆ [null, 42.0, …   ┆ [9740843,        ┆ [249.0, 5.0, …   ┆ test       │\n",
       "│         ┆ 21:11:26,        ┆ 74.0]            ┆ 9765450, …       ┆ 10.0]            ┆            │\n",
       "│         ┆ 2023-05-14…      ┆                  ┆ 9765175]         ┆                  ┆            │\n",
       "│ 1310240 ┆ [2023-05-22      ┆ [100.0, 64.0, …  ┆ [9776041,        ┆ [6.0, 8.0, …     ┆ test       │\n",
       "│         ┆ 12:48:10,        ┆ 21.0]            ┆ 9775964, …       ┆ 3.0]             ┆            │\n",
       "│         ┆ 2023-05-22…      ┆                  ┆ 9775800]         ┆                  ┆            │\n",
       "│ 2081381 ┆ [2023-05-18      ┆ [10.0, null, …   ┆ [9770369,        ┆ [19.0, 1.0, …    ┆ test       │\n",
       "│         ┆ 10:20:17,        ┆ null]            ┆ 9771242, …       ┆ 1.0]             ┆            │\n",
       "│         ┆ 2023-05-18…      ┆                  ┆ 9771237]         ┆                  ┆            │\n",
       "└─────────┴──────────────────┴──────────────────┴──────────────────┴──────────────────┴────────────┘"
      ]
     },
     "execution_count": 4,
     "metadata": {},
     "output_type": "execute_result"
    }
   ],
   "source": [
    "df_history = pl.concat(\n",
    "    [\n",
    "        pl.scan_parquet(data_dir / \"history.parquet\").with_columns(\n",
    "            pl.lit(data_split).alias(\"data_split\"),\n",
    "        )\n",
    "        for data_split, data_dir in data_dirs.items()\n",
    "    ],\n",
    ")\n",
    "df_history.collect()"
   ]
  },
  {
   "cell_type": "markdown",
   "metadata": {},
   "source": [
    "### 1.3. Articles\n",
    "\n",
    "| # | Column | Context | Example |\n",
    "|---|--------|---------|---------|\n",
    "| 1 | article_id | The unique ID of a news article. | 8987932 |\n",
    "| 2 | title | The article's Danish title. | Se billederne: Zlatans paradis til salg |\n",
    "| 3 | subtitle | The article's Danish subtitle/abstract. | Zlatan Ibrahimovic har sat sin skihytte i Åre til salg, men prisen skal nok afskrække en del. (...) |\n",
    "| 4 | body | The article's full Danish text body. | Drømmer du om en eksklusiv skihytte i Sverige? Så har Zlatan Ibrahimovic et eksklusivt tilbud til dig (...) |\n",
    "| 5 | category | The category ID. | 142 |\n",
    "| 6 | category_str | The category as a string. | sport |\n",
    "| 7 | subcategory | The subcategory IDs. | [196, 271] |\n",
    "| 8 | premium | Whether the content is behind a paywall. | False |\n",
    "| 9 | published_time | The time the article was published. The format is \"YYYY/MM/DD HH:MM:SS\". | 2021-11-15 03:56:56 |\n",
    "| 10 | last_modified_time | The timestamp for the last modification of the article, e.g., updates as the story evolves or spelling corrections. The format is \"YYYY/MM/DD HH:MM:SS\". | 2023-06-29 06:38:41 |\n",
    "| 11 | image_ids | The image IDs used in the article. | [8988118] |\n",
    "| 12 | article_type | The type of article, such as a feature, gallery, video, or live blog. | article_default |\n",
    "| 13 | url | The article's URL. | https://ekstrabladet.dk/.../8987932 |\n",
    "| 14 | ner_clusters | The tags retrieved from a proprietary named-entity-recognition model at Ekstra Bladet are based on the concatenated title, abstract, and body. | ['Aftonbladet', 'Åre', 'Bjurfors', 'Cecilia Edfeldt Jigstedt', 'Helena', 'Sverige', 'Zlatan Ibrahimovic'] |\n",
    "| 15 | entity_groups | The tags retrieved from a proprietary entity-recognition model at Ekstra Bladet are based on the concatenated title, abstract, and body. | ['ORG', 'LOC', 'ORG', 'PER', 'PER', 'LOC', 'PER'] |\n",
    "| 16 | topics | The tags retrieved from a proprietary topic-recognition model at Ekstra Bladet are based on the concatenated title, abstract, and body. | [] |\n",
    "| 17 | total_inviews | The total number of times an article has been inview (registered as seen) by users within the first 7 days after it was published. This feature only applies to articles that were published after February 16, 2023. | null |\n",
    "| 18 | total_pageviews | The total number of times an article has been clicked by users within the first 7 days after it was published. This feature only applies to articles that were published after February 16, 2023. | null |\n",
    "| 19 | total_read_time | The accumulated read time of an article within the first 7 days after it was published. This feature only applies to articles that were published after February 16, 2023. | null |\n",
    "| 20 | sentiment_score | The sentiment score from a proprietary sentiment model at Ekstra Bladet is based on the concatenated title and abstract. | 0.5299 |\n",
    "| 21 | sentiment_label | The assigned sentiment label from a proprietary sentiment model at Ekstra Bladet is based on the concatenated title and abstract. The labels are positive, neutral, and negative. | Neutral |"
   ]
  },
  {
   "cell_type": "code",
   "execution_count": 5,
   "metadata": {},
   "outputs": [
    {
     "data": {
      "text/html": [
       "<div><style>\n",
       ".dataframe > thead > tr,\n",
       ".dataframe > tbody > tr {\n",
       "  text-align: right;\n",
       "  white-space: pre-wrap;\n",
       "}\n",
       "</style>\n",
       "<small>shape: (125_541, 21)</small><table border=\"1\" class=\"dataframe\"><thead><tr><th>article_id</th><th>title</th><th>subtitle</th><th>last_modified_time</th><th>premium</th><th>body</th><th>published_time</th><th>image_ids</th><th>article_type</th><th>url</th><th>ner_clusters</th><th>entity_groups</th><th>topics</th><th>category</th><th>subcategory</th><th>category_str</th><th>total_inviews</th><th>total_pageviews</th><th>total_read_time</th><th>sentiment_score</th><th>sentiment_label</th></tr><tr><td>i32</td><td>str</td><td>str</td><td>datetime[μs]</td><td>bool</td><td>str</td><td>datetime[μs]</td><td>list[i64]</td><td>str</td><td>str</td><td>list[str]</td><td>list[str]</td><td>list[str]</td><td>i16</td><td>list[i16]</td><td>str</td><td>i32</td><td>i32</td><td>f32</td><td>f32</td><td>str</td></tr></thead><tbody><tr><td>3000022</td><td>&quot;Hanks beskyldt…</td><td>&quot;Tom Hanks har …</td><td>2023-06-29 06:20:32</td><td>false</td><td>&quot;Tom Hanks skul…</td><td>2006-09-20 09:24:18</td><td>[3518381]</td><td>&quot;article_defaul…</td><td>&quot;https://ekstra…</td><td>[&quot;David Gardner&quot;]</td><td>[&quot;PER&quot;]</td><td>[&quot;Kriminalitet&quot;, &quot;Kendt&quot;, … &quot;Litteratur&quot;]</td><td>414</td><td>[432]</td><td>&quot;underholdning&quot;</td><td>null</td><td>null</td><td>null</td><td>0.9911</td><td>&quot;Negative&quot;</td></tr><tr><td>3000063</td><td>&quot;Bostrups aske …</td><td>&quot;Studieværten b…</td><td>2023-06-29 06:20:32</td><td>false</td><td>&quot;Strålende sens…</td><td>2006-09-24 07:45:30</td><td>[3170935, 3170939]</td><td>&quot;article_defaul…</td><td>&quot;https://ekstra…</td><td>[]</td><td>[]</td><td>[&quot;Kendt&quot;, &quot;Underholdning&quot;, … &quot;Personlig begivenhed&quot;]</td><td>118</td><td>[133]</td><td>&quot;nyheder&quot;</td><td>null</td><td>null</td><td>null</td><td>0.5155</td><td>&quot;Neutral&quot;</td></tr><tr><td>3000613</td><td>&quot;Jesper Olsen r…</td><td>&quot;Den tidligere …</td><td>2023-06-29 06:20:33</td><td>false</td><td>&quot;Jesper Olsen, …</td><td>2006-05-09 11:29:00</td><td>[3164998]</td><td>&quot;article_defaul…</td><td>&quot;https://ekstra…</td><td>[&quot;Frankrig&quot;, &quot;Jesper Olsen&quot;, … &quot;Jesper Olsen&quot;]</td><td>[&quot;LOC&quot;, &quot;PER&quot;, … &quot;PER&quot;]</td><td>[&quot;Kendt&quot;, &quot;Sport&quot;, … &quot;Sygdom og behandling&quot;]</td><td>142</td><td>[196, 271]</td><td>&quot;sport&quot;</td><td>null</td><td>null</td><td>null</td><td>0.9876</td><td>&quot;Negative&quot;</td></tr><tr><td>3000700</td><td>&quot;Madonna topløs…</td><td>&quot;47-årige Madon…</td><td>2023-06-29 06:20:33</td><td>false</td><td>&quot;Skal du have s…</td><td>2006-05-04 11:03:12</td><td>[3172046]</td><td>&quot;article_defaul…</td><td>&quot;https://ekstra…</td><td>[]</td><td>[]</td><td>[&quot;Kendt&quot;, &quot;Livsstil&quot;, &quot;Underholdning&quot;]</td><td>414</td><td>[432]</td><td>&quot;underholdning&quot;</td><td>null</td><td>null</td><td>null</td><td>0.8786</td><td>&quot;Neutral&quot;</td></tr><tr><td>3000840</td><td>&quot;Otto Brandenbu…</td><td>&quot;Sangeren og sk…</td><td>2023-06-29 06:20:33</td><td>false</td><td>&quot;&#x27;Og lidt for S…</td><td>2007-03-01 18:34:00</td><td>[3914446]</td><td>&quot;article_defaul…</td><td>&quot;https://ekstra…</td><td>[]</td><td>[]</td><td>[&quot;Kendt&quot;, &quot;Underholdning&quot;, … &quot;Musik og lyd&quot;]</td><td>118</td><td>[133]</td><td>&quot;nyheder&quot;</td><td>null</td><td>null</td><td>null</td><td>0.9468</td><td>&quot;Negative&quot;</td></tr><tr><td>&hellip;</td><td>&hellip;</td><td>&hellip;</td><td>&hellip;</td><td>&hellip;</td><td>&hellip;</td><td>&hellip;</td><td>&hellip;</td><td>&hellip;</td><td>&hellip;</td><td>&hellip;</td><td>&hellip;</td><td>&hellip;</td><td>&hellip;</td><td>&hellip;</td><td>&hellip;</td><td>&hellip;</td><td>&hellip;</td><td>&hellip;</td><td>&hellip;</td><td>&hellip;</td></tr><tr><td>9803505</td><td>&quot;Flyvende Anton…</td><td>&quot;Verdens nummer…</td><td>2023-06-29 06:49:26</td><td>false</td><td>&quot;Anders Antonse…</td><td>2023-06-08 05:54:06</td><td>[9803516]</td><td>&quot;article_defaul…</td><td>&quot;https://ekstra…</td><td>[&quot;Alexandra Bøje&quot;, &quot;All England&quot;, … &quot;Taiwan&quot;]</td><td>[&quot;PER&quot;, &quot;PROD&quot;, … &quot;LOC&quot;]</td><td>[&quot;Kendt&quot;, &quot;Begivenhed&quot;, … &quot;Sportsbegivenhed&quot;]</td><td>142</td><td>[327, 330]</td><td>&quot;sport&quot;</td><td>13320</td><td>959</td><td>55691.0</td><td>0.8884</td><td>&quot;Positive&quot;</td></tr><tr><td>9803510</td><td>&quot;Nedschroef Lan…</td><td>&quot;Hos Nedschroef…</td><td>2023-06-29 06:49:26</td><td>false</td><td>&quot;Et udbytte på …</td><td>2023-06-08 05:48:51</td><td>[9803509]</td><td>&quot;article_defaul…</td><td>&quot;https://ekstra…</td><td>[&quot;Bytoften&quot;, &quot;Erhvervsstyrelsen&quot;, … &quot;Plettenberg Gmbh&quot;]</td><td>[&quot;LOC&quot;, &quot;ORG&quot;, … &quot;PER&quot;]</td><td>[&quot;Erhverv&quot;, &quot;Privat virksomhed&quot;, &quot;Økonomi&quot;]</td><td>2889</td><td>[2890, 2900]</td><td>&quot;auto&quot;</td><td>12</td><td>1</td><td>25.0</td><td>0.8723</td><td>&quot;Negative&quot;</td></tr><tr><td>9803525</td><td>&quot;Dansk skuespil…</td><td>&quot;Julie R. Ølgaa…</td><td>2023-06-29 06:49:26</td><td>false</td><td>&quot;Mens hun lå sø…</td><td>2023-06-08 06:45:46</td><td>[9803518, 9803519, … 9803524]</td><td>&quot;article_defaul…</td><td>&quot;https://ekstra…</td><td>[&quot;Cooper&quot;, &quot;Englemageren&quot;, … &quot;Svangerskabsforgiftning&quot;]</td><td>[&quot;PER&quot;, &quot;PROD&quot;, … &quot;MISC&quot;]</td><td>[&quot;Kendt&quot;, &quot;Livsstil&quot;, … &quot;Sygdom og behandling&quot;]</td><td>414</td><td>[425]</td><td>&quot;underholdning&quot;</td><td>315391</td><td>50361</td><td>2.550671e6</td><td>0.7737</td><td>&quot;Negative&quot;</td></tr><tr><td>9803560</td><td>&quot;Så slemt er de…</td><td>&quot;Tusindvis af h…</td><td>2023-06-29 06:49:26</td><td>false</td><td>&quot;Et område på o…</td><td>2023-06-08 06:25:42</td><td>null</td><td>&quot;article_defaul…</td><td>&quot;https://ekstra…</td><td>[&quot;Dnepr&quot;, &quot;Kherson&quot;, … &quot;Ukraine&quot;]</td><td>[&quot;LOC&quot;, &quot;LOC&quot;, … &quot;LOC&quot;]</td><td>[&quot;International politik&quot;, &quot;Katastrofe&quot;, … &quot;Politik&quot;]</td><td>118</td><td>[]</td><td>&quot;nyheder&quot;</td><td>21318</td><td>1237</td><td>67514.0</td><td>0.9927</td><td>&quot;Negative&quot;</td></tr><tr><td>9803607</td><td>&quot;Aktion mod svi…</td><td>&quot;Flere kvinder …</td><td>2023-06-29 06:49:26</td><td>false</td><td>&quot;Mindst otte pe…</td><td>2023-06-08 06:54:53</td><td>[9803906]</td><td>&quot;article_defaul…</td><td>&quot;https://ekstra…</td><td>[&quot;Adam&quot;, &quot;Bente&quot;, … &quot;Twitter&quot;]</td><td>[&quot;PER&quot;, &quot;PER&quot;, … &quot;ORG&quot;]</td><td>[&quot;Kriminalitet&quot;, &quot;Bedrageri&quot;]</td><td>140</td><td>[]</td><td>&quot;krimi&quot;</td><td>331057</td><td>79590</td><td>3.69476e6</td><td>0.9948</td><td>&quot;Negative&quot;</td></tr></tbody></table></div>"
      ],
      "text/plain": [
       "shape: (125_541, 21)\n",
       "┌───────────┬───────────┬───────────┬───────────┬───┬───────────┬───────────┬───────────┬──────────┐\n",
       "│ article_i ┆ title     ┆ subtitle  ┆ last_modi ┆ … ┆ total_pag ┆ total_rea ┆ sentiment ┆ sentimen │\n",
       "│ d         ┆ ---       ┆ ---       ┆ fied_time ┆   ┆ eviews    ┆ d_time    ┆ _score    ┆ t_label  │\n",
       "│ ---       ┆ str       ┆ str       ┆ ---       ┆   ┆ ---       ┆ ---       ┆ ---       ┆ ---      │\n",
       "│ i32       ┆           ┆           ┆ datetime[ ┆   ┆ i32       ┆ f32       ┆ f32       ┆ str      │\n",
       "│           ┆           ┆           ┆ μs]       ┆   ┆           ┆           ┆           ┆          │\n",
       "╞═══════════╪═══════════╪═══════════╪═══════════╪═══╪═══════════╪═══════════╪═══════════╪══════════╡\n",
       "│ 3000022   ┆ Hanks     ┆ Tom Hanks ┆ 2023-06-2 ┆ … ┆ null      ┆ null      ┆ 0.9911    ┆ Negative │\n",
       "│           ┆ beskyldt  ┆ har angiv ┆ 9         ┆   ┆           ┆           ┆           ┆          │\n",
       "│           ┆ for misha ┆ eligt     ┆ 06:20:32  ┆   ┆           ┆           ┆           ┆          │\n",
       "│           ┆ ndling    ┆ mishand…  ┆           ┆   ┆           ┆           ┆           ┆          │\n",
       "│ 3000063   ┆ Bostrups  ┆ Studievær ┆ 2023-06-2 ┆ … ┆ null      ┆ null      ┆ 0.5155    ┆ Neutral  │\n",
       "│           ┆ aske      ┆ ten blev  ┆ 9         ┆   ┆           ┆           ┆           ┆          │\n",
       "│           ┆ spredt i  ┆ mindet    ┆ 06:20:32  ┆   ┆           ┆           ┆           ┆          │\n",
       "│           ┆ Furesøen  ┆ med gla…  ┆           ┆   ┆           ┆           ┆           ┆          │\n",
       "│ 3000613   ┆ Jesper    ┆ Den       ┆ 2023-06-2 ┆ … ┆ null      ┆ null      ┆ 0.9876    ┆ Negative │\n",
       "│           ┆ Olsen     ┆ tidligere ┆ 9         ┆   ┆           ┆           ┆           ┆          │\n",
       "│           ┆ ramt af   ┆ danske    ┆ 06:20:33  ┆   ┆           ┆           ┆           ┆          │\n",
       "│           ┆ hjerneblø ┆ landshold ┆           ┆   ┆           ┆           ┆           ┆          │\n",
       "│           ┆ dn…       ┆ ss…       ┆           ┆   ┆           ┆           ┆           ┆          │\n",
       "│ 3000700   ┆ Madonna   ┆ 47-årige  ┆ 2023-06-2 ┆ … ┆ null      ┆ null      ┆ 0.8786    ┆ Neutral  │\n",
       "│           ┆ topløs    ┆ Madonna   ┆ 9         ┆   ┆           ┆           ┆           ┆          │\n",
       "│           ┆ med heste ┆ poserer   ┆ 06:20:33  ┆   ┆           ┆           ┆           ┆          │\n",
       "│           ┆           ┆ både to…  ┆           ┆   ┆           ┆           ┆           ┆          │\n",
       "│ 3000840   ┆ Otto Bran ┆ Sangeren  ┆ 2023-06-2 ┆ … ┆ null      ┆ null      ┆ 0.9468    ┆ Negative │\n",
       "│           ┆ denburg   ┆ og skuesp ┆ 9         ┆   ┆           ┆           ┆           ┆          │\n",
       "│           ┆ er død    ┆ illeren   ┆ 06:20:33  ┆   ┆           ┆           ┆           ┆          │\n",
       "│           ┆           ┆ Otto B…   ┆           ┆   ┆           ┆           ┆           ┆          │\n",
       "│ …         ┆ …         ┆ …         ┆ …         ┆ … ┆ …         ┆ …         ┆ …         ┆ …        │\n",
       "│ 9803505   ┆ Flyvende  ┆ Verdens   ┆ 2023-06-2 ┆ … ┆ 959       ┆ 55691.0   ┆ 0.8884    ┆ Positive │\n",
       "│           ┆ Antonsen  ┆ nummer    ┆ 9         ┆   ┆           ┆           ┆           ┆          │\n",
       "│           ┆ knuser    ┆ syv, Chou ┆ 06:49:26  ┆   ┆           ┆           ┆           ┆          │\n",
       "│           ┆ topspil…  ┆ Tien-Ch…  ┆           ┆   ┆           ┆           ┆           ┆          │\n",
       "│ 9803510   ┆ Nedschroe ┆ Hos Nedsc ┆ 2023-06-2 ┆ … ┆ 1         ┆ 25.0      ┆ 0.8723    ┆ Negative │\n",
       "│           ┆ f         ┆ hroef     ┆ 9         ┆   ┆           ┆           ┆           ┆          │\n",
       "│           ┆ Langeskov ┆ Langeskov ┆ 06:49:26  ┆   ┆           ┆           ┆           ┆          │\n",
       "│           ┆ udbetalte ┆ ApS udb…  ┆           ┆   ┆           ┆           ┆           ┆          │\n",
       "│           ┆ u…        ┆           ┆           ┆   ┆           ┆           ┆           ┆          │\n",
       "│ 9803525   ┆ Dansk sku ┆ Julie R.  ┆ 2023-06-2 ┆ … ┆ 50361     ┆ 2.550671e ┆ 0.7737    ┆ Negative │\n",
       "│           ┆ espiller: ┆ Ølgaard   ┆ 9         ┆   ┆           ┆ 6         ┆           ┆          │\n",
       "│           ┆ - Jeg     ┆ fik akut  ┆ 06:49:26  ┆   ┆           ┆           ┆           ┆          │\n",
       "│           ┆ nægtede…  ┆ kejser…   ┆           ┆   ┆           ┆           ┆           ┆          │\n",
       "│ 9803560   ┆ Så slemt  ┆ Tusindvis ┆ 2023-06-2 ┆ … ┆ 1237      ┆ 67514.0   ┆ 0.9927    ┆ Negative │\n",
       "│           ┆ er det:   ┆ af huse   ┆ 9         ┆   ┆           ┆           ┆           ┆          │\n",
       "│           ┆ 14.000    ┆ står      ┆ 06:49:26  ┆   ┆           ┆           ┆           ┆          │\n",
       "│           ┆ huse er … ┆ under     ┆           ┆   ┆           ┆           ┆           ┆          │\n",
       "│           ┆           ┆ van…      ┆           ┆   ┆           ┆           ┆           ┆          │\n",
       "│ 9803607   ┆ Aktion    ┆ Flere     ┆ 2023-06-2 ┆ … ┆ 79590     ┆ 3.69476e6 ┆ 0.9948    ┆ Negative │\n",
       "│           ┆ mod svind ┆ kvinder   ┆ 9         ┆   ┆           ┆           ┆           ┆          │\n",
       "│           ┆ lere:     ┆ er ifølge ┆ 06:49:26  ┆   ┆           ┆           ┆           ┆          │\n",
       "│           ┆ Seks      ┆ politiet… ┆           ┆   ┆           ┆           ┆           ┆          │\n",
       "│           ┆ perso…    ┆           ┆           ┆   ┆           ┆           ┆           ┆          │\n",
       "└───────────┴───────────┴───────────┴───────────┴───┴───────────┴───────────┴───────────┴──────────┘"
      ]
     },
     "metadata": {},
     "output_type": "display_data"
    }
   ],
   "source": [
    "df_articles = pl.scan_parquet(DATA_DIR / \"ebnerd\" / \"articles.parquet\")\n",
    "display(df_articles.collect())"
   ]
  },
  {
   "cell_type": "markdown",
   "metadata": {},
   "source": [
    "## 2. Statistics"
   ]
  },
  {
   "cell_type": "markdown",
   "metadata": {},
   "source": [
    "### 2.1. user_ids venn diagram"
   ]
  },
  {
   "cell_type": "code",
   "execution_count": 6,
   "metadata": {},
   "outputs": [
    {
     "data": {
      "text/plain": [
       "<matplotlib_venn._common.VennDiagram at 0x7f410089b0d0>"
      ]
     },
     "execution_count": 6,
     "metadata": {},
     "output_type": "execute_result"
    },
    {
     "data": {
      "image/png": "[encoded data removed]",
      "text/plain": [
       "<Figure size 640x480 with 1 Axes>"
      ]
     },
     "metadata": {},
     "output_type": "display_data"
    }
   ],
   "source": [
    "user_ids = {\n",
    "    data_split: set(user_ids)\n",
    "    for data_split, user_ids in df_history.group_by(\"data_split\")\n",
    "    .agg(pl.col(\"user_id\"))\n",
    "    .collect()\n",
    "    .iter_rows()\n",
    "}\n",
    "venn3(subsets=list(user_ids.values()), set_labels=tuple(user_ids.keys()))"
   ]
  },
  {
   "cell_type": "markdown",
   "metadata": {},
   "source": [
    "### 2.2. History / Behaviors statistics with data-split"
   ]
  },
  {
   "cell_type": "code",
   "execution_count": 11,
   "metadata": {},
   "outputs": [
    {
     "name": "stdout",
     "output_type": "stream",
     "text": [
      "History: shape: (3, 4)\n",
      "┌────────────┬───────────────────────────┬───────────────────────────┬────────┐\n",
      "│ data_split ┆ impression_time_fixed_min ┆ impression_time_fixed_max ┆ count  │\n",
      "│ ---        ┆ ---                       ┆ ---                       ┆ ---    │\n",
      "│ str        ┆ datetime[μs]              ┆ datetime[μs]              ┆ u32    │\n",
      "╞════════════╪═══════════════════════════╪═══════════════════════════╪════════╡\n",
      "│ train      ┆ 2023-04-27 07:00:00       ┆ 2023-05-18 06:59:59       ┆ 788090 │\n",
      "│ validation ┆ 2023-05-04 07:00:00       ┆ 2023-05-25 06:59:59       ┆ 791582 │\n",
      "│ test       ┆ 2023-05-11 07:00:00       ┆ 2023-06-01 06:59:59       ┆ 807677 │\n",
      "└────────────┴───────────────────────────┴───────────────────────────┴────────┘\n",
      "Behaviors: shape: (3, 8)\n",
      "┌────────────┬────────────┬────────────┬────────────┬───────────┬───────────┬───────────┬──────────┐\n",
      "│ data_split ┆ impression ┆ impression ┆ read_time_ ┆ read_time ┆ scroll_pe ┆ scroll_pe ┆ count    │\n",
      "│ ---        ┆ _time_min  ┆ _time_max  ┆ mean       ┆ _max      ┆ rcentage_ ┆ rcentage_ ┆ ---      │\n",
      "│ str        ┆ ---        ┆ ---        ┆ ---        ┆ ---       ┆ mean      ┆ max       ┆ u32      │\n",
      "│            ┆ datetime[μ ┆ datetime[μ ┆ f32        ┆ f32       ┆ ---       ┆ ---       ┆          │\n",
      "│            ┆ s]         ┆ s]         ┆            ┆           ┆ f32       ┆ f32       ┆          │\n",
      "╞════════════╪════════════╪════════════╪════════════╪═══════════╪═══════════╪═══════════╪══════════╡\n",
      "│ train      ┆ 2023-05-18 ┆ 2023-05-25 ┆ 44.051804  ┆ 1800.0    ┆ 97.874748 ┆ 100.0     ┆ 12063890 │\n",
      "│            ┆ 07:00:00   ┆ 06:59:59   ┆            ┆           ┆           ┆           ┆          │\n",
      "│ validation ┆ 2023-05-25 ┆ 2023-06-01 ┆ 44.933697  ┆ 1800.0    ┆ 98.057823 ┆ 100.0     ┆ 12566385 │\n",
      "│            ┆ 07:00:00   ┆ 06:59:59   ┆            ┆           ┆           ┆           ┆          │\n",
      "│ test       ┆ 2023-06-01 ┆ 2023-06-08 ┆ 42.816174  ┆ 1800.0    ┆ 97.698235 ┆ 100.0     ┆ 13536710 │\n",
      "│            ┆ 07:00:00   ┆ 06:59:59   ┆            ┆           ┆           ┆           ┆          │\n",
      "└────────────┴────────────┴────────────┴────────────┴───────────┴───────────┴───────────┴──────────┘\n"
     ]
    }
   ],
   "source": [
    "df_history_summary = (\n",
    "    df_history.with_columns(\n",
    "        (\n",
    "            pl.col(DEFAULT_HISTORY_IMPRESSION_TIMESTAMP_COL)\n",
    "            .list.eval(pl.element().min())\n",
    "            .explode()\n",
    "            .name.suffix(\"_min\")\n",
    "        ),\n",
    "        (\n",
    "            pl.col(DEFAULT_HISTORY_IMPRESSION_TIMESTAMP_COL)\n",
    "            .list.eval(pl.element().max())\n",
    "            .explode()\n",
    "            .name.suffix(\"_max\")\n",
    "        ),\n",
    "    )\n",
    "    .group_by(\"data_split\")\n",
    "    .agg(\n",
    "        pl.col(f\"{DEFAULT_HISTORY_IMPRESSION_TIMESTAMP_COL}_min\").min(),\n",
    "        pl.col(f\"{DEFAULT_HISTORY_IMPRESSION_TIMESTAMP_COL}_max\").max(),\n",
    "        pl.len().alias(\"count\"),\n",
    "    )\n",
    "    .sort(f\"{DEFAULT_HISTORY_IMPRESSION_TIMESTAMP_COL}_min\")\n",
    ")\n",
    "df_behaviors_summary = (\n",
    "    df_behaviors.group_by(\"data_split\")\n",
    "    .agg(\n",
    "        pl.col(DEFAULT_IMPRESSION_TIMESTAMP_COL).min().name.suffix(\"_min\"),\n",
    "        pl.col(DEFAULT_IMPRESSION_TIMESTAMP_COL).max().name.suffix(\"_max\"),\n",
    "        pl.col(\"read_time\").mean().name.suffix(\"_mean\"),\n",
    "        pl.col(\"read_time\").max().name.suffix(\"_max\"),\n",
    "        pl.col(\"scroll_percentage\").mean().name.suffix(\"_mean\"),\n",
    "        pl.col(\"scroll_percentage\").max().name.suffix(\"_max\"),\n",
    "        pl.len().alias(\"count\"),\n",
    "    )\n",
    "    .sort(f\"{DEFAULT_IMPRESSION_TIMESTAMP_COL}_min\")\n",
    ")\n",
    "print(f\"History: {df_history_summary.collect()}\")\n",
    "print(f\"Behaviors: {df_behaviors_summary.collect()}\")"
   ]
  },
  {
   "cell_type": "markdown",
   "metadata": {},
   "source": [
    "### 2.3. Behavior statistics with num_articles "
   ]
  },
  {
   "cell_type": "code",
   "execution_count": 8,
   "metadata": {},
   "outputs": [
    {
     "name": "stdout",
     "output_type": "stream",
     "text": [
      "Clicked: shape: (13, 4)\n",
      "┌──────────────┬──────────┬────────────┬──────────┐\n",
      "│ num_articles ┆ train    ┆ validation ┆ test     │\n",
      "│ ---          ┆ ---      ┆ ---        ┆ ---      │\n",
      "│ u32          ┆ u32      ┆ u32        ┆ u32      │\n",
      "╞══════════════╪══════════╪════════════╪══════════╡\n",
      "│ 0            ┆ null     ┆ null       ┆ 13536710 │\n",
      "│ 1            ┆ 12004156 ┆ 12494779   ┆ null     │\n",
      "│ 2            ┆ 53705    ┆ 65626      ┆ null     │\n",
      "│ 3            ┆ 3566     ┆ 3500       ┆ null     │\n",
      "│ 4            ┆ 1258     ┆ 1083       ┆ null     │\n",
      "│ …            ┆ …        ┆ …          ┆ …        │\n",
      "│ 8            ┆ 28       ┆ 135        ┆ null     │\n",
      "│ 9            ┆ 11       ┆ 68         ┆ null     │\n",
      "│ 10           ┆ 2        ┆ 21         ┆ null     │\n",
      "│ 11           ┆ null     ┆ 6          ┆ null     │\n",
      "│ 12           ┆ null     ┆ 2          ┆ null     │\n",
      "└──────────────┴──────────┴────────────┴──────────┘\n",
      "Inview: shape: (97, 4)\n",
      "┌──────────────┬─────────┬────────────┬─────────┐\n",
      "│ num_articles ┆ train   ┆ validation ┆ test    │\n",
      "│ ---          ┆ ---     ┆ ---        ┆ ---     │\n",
      "│ u32          ┆ u32     ┆ u32        ┆ u32     │\n",
      "╞══════════════╪═════════╪════════════╪═════════╡\n",
      "│ 5            ┆ 2110707 ┆ 2053010    ┆ 2226209 │\n",
      "│ 6            ┆ 1678780 ┆ 1694115    ┆ 1844572 │\n",
      "│ 7            ┆ 1272222 ┆ 1299140    ┆ 1385515 │\n",
      "│ 8            ┆ 1045903 ┆ 1028497    ┆ 1122977 │\n",
      "│ 9            ┆ 924203  ┆ 963267     ┆ 1030804 │\n",
      "│ …            ┆ …       ┆ …          ┆ …       │\n",
      "│ 97           ┆ 20      ┆ 17         ┆ 18      │\n",
      "│ 98           ┆ 18      ┆ 18         ┆ 31      │\n",
      "│ 99           ┆ 16      ┆ 11         ┆ 14      │\n",
      "│ 100          ┆ 11      ┆ 8          ┆ 8       │\n",
      "│ 250          ┆ null    ┆ null       ┆ 200000  │\n",
      "└──────────────┴─────────┴────────────┴─────────┘\n",
      "History: shape: (1_504, 4)\n",
      "┌──────────────┬───────┬────────────┬───────┐\n",
      "│ num_articles ┆ train ┆ validation ┆ test  │\n",
      "│ ---          ┆ ---   ┆ ---        ┆ ---   │\n",
      "│ u32          ┆ u32   ┆ u32        ┆ u32   │\n",
      "╞══════════════╪═══════╪════════════╪═══════╡\n",
      "│ 5            ┆ 9221  ┆ 10701      ┆ 11803 │\n",
      "│ 6            ┆ 9154  ┆ 10562      ┆ 11109 │\n",
      "│ 7            ┆ 8922  ┆ 9979       ┆ 10688 │\n",
      "│ 8            ┆ 8602  ┆ 9758       ┆ 10135 │\n",
      "│ 9            ┆ 8353  ┆ 9476       ┆ 9561  │\n",
      "│ …            ┆ …     ┆ …          ┆ …     │\n",
      "│ 2187         ┆ 1     ┆ null       ┆ null  │\n",
      "│ 2406         ┆ 1     ┆ null       ┆ null  │\n",
      "│ 2446         ┆ 1     ┆ null       ┆ null  │\n",
      "│ 2449         ┆ 1     ┆ null       ┆ null  │\n",
      "│ 2696         ┆ 1     ┆ null       ┆ null  │\n",
      "└──────────────┴───────┴────────────┴───────┘\n"
     ]
    }
   ],
   "source": [
    "df_behaviors_clicked_summary = (\n",
    "    df_behaviors.with_columns(\n",
    "        pl.col(\"article_ids_clicked\").list.len().alias(\"num_articles\"),\n",
    "    )\n",
    "    .group_by(\"data_split\", \"num_articles\")\n",
    "    .len()\n",
    "    .collect()\n",
    "    .pivot(index=\"num_articles\", columns=\"data_split\", values=\"len\")\n",
    "    .select(\"num_articles\", \"train\", \"validation\", \"test\")\n",
    "    .sort(\"num_articles\")\n",
    ")\n",
    "df_behaviors_inview_summary = (\n",
    "    df_behaviors.with_columns(\n",
    "        pl.col(\"article_ids_inview\").list.len().alias(\"num_articles\"),\n",
    "    )\n",
    "    .group_by(\"data_split\", \"num_articles\")\n",
    "    .len()\n",
    "    .collect()\n",
    "    .pivot(index=\"num_articles\", columns=\"data_split\", values=\"len\")\n",
    "    .select(\"num_articles\", \"train\", \"validation\", \"test\")\n",
    "    .sort(\"num_articles\")\n",
    ")\n",
    "df_history_summary = (\n",
    "    df_history.with_columns(\n",
    "        pl.col(\"article_id_fixed\").list.len().alias(\"num_articles\"),\n",
    "    )\n",
    "    .group_by(\"data_split\", \"num_articles\")\n",
    "    .len()\n",
    "    .collect()\n",
    "    .pivot(index=\"num_articles\", columns=\"data_split\", values=\"len\")\n",
    "    .select(\"num_articles\", \"train\", \"validation\", \"test\")\n",
    "    .sort(\"num_articles\")\n",
    ")\n",
    "print(f\"Clicked: {df_behaviors_clicked_summary}\")\n",
    "print(f\"Inview: {df_behaviors_inview_summary}\")\n",
    "print(f\"History: {df_history_summary}\")"
   ]
  },
  {
   "cell_type": "markdown",
   "metadata": {},
   "source": [
    "### 2.4. Behavior statistics with user_id"
   ]
  },
  {
   "cell_type": "code",
   "execution_count": 9,
   "metadata": {},
   "outputs": [
    {
     "data": {
      "text/html": [
       "<div><style>\n",
       ".dataframe > thead > tr,\n",
       ".dataframe > tbody > tr {\n",
       "  text-align: right;\n",
       "  white-space: pre-wrap;\n",
       "}\n",
       "</style>\n",
       "<small>shape: (3, 5)</small><table border=\"1\" class=\"dataframe\"><thead><tr><th>data_split</th><th>max</th><th>median</th><th>min</th><th>count</th></tr><tr><td>str</td><td>u32</td><td>f64</td><td>u32</td><td>u32</td></tr></thead><tbody><tr><td>&quot;validation&quot;</td><td>276</td><td>9.0</td><td>1</td><td>791582</td></tr><tr><td>&quot;train&quot;</td><td>250</td><td>9.0</td><td>1</td><td>788090</td></tr><tr><td>&quot;test&quot;</td><td>300</td><td>10.0</td><td>1</td><td>807677</td></tr></tbody></table></div>"
      ],
      "text/plain": [
       "shape: (3, 5)\n",
       "┌────────────┬─────┬────────┬─────┬────────┐\n",
       "│ data_split ┆ max ┆ median ┆ min ┆ count  │\n",
       "│ ---        ┆ --- ┆ ---    ┆ --- ┆ ---    │\n",
       "│ str        ┆ u32 ┆ f64    ┆ u32 ┆ u32    │\n",
       "╞════════════╪═════╪════════╪═════╪════════╡\n",
       "│ validation ┆ 276 ┆ 9.0    ┆ 1   ┆ 791582 │\n",
       "│ train      ┆ 250 ┆ 9.0    ┆ 1   ┆ 788090 │\n",
       "│ test       ┆ 300 ┆ 10.0   ┆ 1   ┆ 807677 │\n",
       "└────────────┴─────┴────────┴─────┴────────┘"
      ]
     },
     "execution_count": 9,
     "metadata": {},
     "output_type": "execute_result"
    }
   ],
   "source": [
    "(\n",
    "    df_behaviors.group_by([\"data_split\", \"user_id\"])\n",
    "    .len()\n",
    "    .group_by(\"data_split\")\n",
    "    .agg(\n",
    "        pl.col(\"len\").max().alias(\"max\"),\n",
    "        pl.col(\"len\").median().alias(\"median\"),\n",
    "        pl.col(\"len\").min().alias(\"min\"),\n",
    "        pl.len().alias(\"count\"),\n",
    "    )\n",
    "    .collect()\n",
    ")"
   ]
  },
  {
   "cell_type": "code",
   "execution_count": null,
   "metadata": {},
   "outputs": [],
   "source": []
  }
 ],
 "metadata": {
  "kernelspec": {
   "display_name": ".venv",
   "language": "python",
   "name": "python3"
  },
  "language_info": {
   "codemirror_mode": {
    "name": "ipython",
    "version": 3
   },
   "file_extension": ".py",
   "mimetype": "text/x-python",
   "name": "python",
   "nbconvert_exporter": "python",
   "pygments_lexer": "ipython3",
   "version": "3.10.10"
  }
 },
 "nbformat": 4,
 "nbformat_minor": 2
}
