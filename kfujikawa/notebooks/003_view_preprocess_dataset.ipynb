{
 "cells": [
  {
   "cell_type": "markdown",
   "metadata": {},
   "source": [
    "# Preprocessed datasets"
   ]
  },
  {
   "cell_type": "code",
   "execution_count": 1,
   "metadata": {},
   "outputs": [],
   "source": [
    "import polars as pl\n",
    "\n",
    "from exputils.const import PREPROCESS_DIR"
   ]
  },
  {
   "cell_type": "markdown",
   "metadata": {},
   "source": [
    "## Articles"
   ]
  },
  {
   "cell_type": "code",
   "execution_count": 2,
   "metadata": {},
   "outputs": [
    {
     "data": {
      "text/html": [
       "<div><style>\n",
       ".dataframe > thead > tr,\n",
       ".dataframe > tbody > tr {\n",
       "  text-align: right;\n",
       "  white-space: pre-wrap;\n",
       "}\n",
       "</style>\n",
       "<small>shape: (125_541, 23)</small><table border=\"1\" class=\"dataframe\"><thead><tr><th>article_index</th><th>article_id</th><th>title</th><th>subtitle</th><th>premium</th><th>body</th><th>published_time</th><th>image_ids</th><th>article_type</th><th>ner_clusters</th><th>entity_groups</th><th>topics</th><th>category</th><th>subcategory</th><th>category_str</th><th>total_inviews</th><th>total_pageviews</th><th>total_read_time</th><th>sentiment_score</th><th>sentiment_label</th><th>published_ts</th><th>published_date</th><th>published_weekday</th></tr><tr><td>i32</td><td>i32</td><td>str</td><td>str</td><td>bool</td><td>str</td><td>datetime[μs]</td><td>list[i32]</td><td>str</td><td>list[str]</td><td>list[str]</td><td>list[str]</td><td>i16</td><td>list[i16]</td><td>str</td><td>i32</td><td>i32</td><td>i32</td><td>f32</td><td>str</td><td>i32</td><td>date</td><td>i8</td></tr></thead><tbody><tr><td>0</td><td>3000022</td><td>&quot;Hanks beskyldt…</td><td>&quot;Tom Hanks har …</td><td>false</td><td>&quot;Tom Hanks skul…</td><td>2006-09-20 09:24:18</td><td>[3518381]</td><td>&quot;article_defaul…</td><td>[&quot;David Gardner&quot;]</td><td>[&quot;PER&quot;]</td><td>[&quot;Kriminalitet&quot;, &quot;Kendt&quot;, … &quot;Litteratur&quot;]</td><td>414</td><td>[432]</td><td>&quot;underholdning&quot;</td><td>0</td><td>0</td><td>0</td><td>0.9911</td><td>&quot;Negative&quot;</td><td>1158744258</td><td>2006-09-20</td><td>3</td></tr><tr><td>1</td><td>3000063</td><td>&quot;Bostrups aske …</td><td>&quot;Studieværten b…</td><td>false</td><td>&quot;Strålende sens…</td><td>2006-09-24 07:45:30</td><td>[3170935, 3170939]</td><td>&quot;article_defaul…</td><td>[]</td><td>[]</td><td>[&quot;Kendt&quot;, &quot;Underholdning&quot;, … &quot;Personlig begivenhed&quot;]</td><td>118</td><td>[133]</td><td>&quot;nyheder&quot;</td><td>0</td><td>0</td><td>0</td><td>0.5155</td><td>&quot;Neutral&quot;</td><td>1159083930</td><td>2006-09-24</td><td>7</td></tr><tr><td>2</td><td>3000613</td><td>&quot;Jesper Olsen r…</td><td>&quot;Den tidligere …</td><td>false</td><td>&quot;Jesper Olsen, …</td><td>2006-05-09 11:29:00</td><td>[3164998]</td><td>&quot;article_defaul…</td><td>[&quot;Frankrig&quot;, &quot;Jesper Olsen&quot;, … &quot;Jesper Olsen&quot;]</td><td>[&quot;LOC&quot;, &quot;PER&quot;, … &quot;PER&quot;]</td><td>[&quot;Kendt&quot;, &quot;Sport&quot;, … &quot;Sygdom og behandling&quot;]</td><td>142</td><td>[196, 271]</td><td>&quot;sport&quot;</td><td>0</td><td>0</td><td>0</td><td>0.9876</td><td>&quot;Negative&quot;</td><td>1147174140</td><td>2006-05-09</td><td>2</td></tr><tr><td>3</td><td>3000700</td><td>&quot;Madonna topløs…</td><td>&quot;47-årige Madon…</td><td>false</td><td>&quot;Skal du have s…</td><td>2006-05-04 11:03:12</td><td>[3172046]</td><td>&quot;article_defaul…</td><td>[]</td><td>[]</td><td>[&quot;Kendt&quot;, &quot;Livsstil&quot;, &quot;Underholdning&quot;]</td><td>414</td><td>[432]</td><td>&quot;underholdning&quot;</td><td>0</td><td>0</td><td>0</td><td>0.8786</td><td>&quot;Neutral&quot;</td><td>1146740592</td><td>2006-05-04</td><td>4</td></tr><tr><td>4</td><td>3000840</td><td>&quot;Otto Brandenbu…</td><td>&quot;Sangeren og sk…</td><td>false</td><td>&quot;&#x27;Og lidt for S…</td><td>2007-03-01 18:34:00</td><td>[3914446]</td><td>&quot;article_defaul…</td><td>[]</td><td>[]</td><td>[&quot;Kendt&quot;, &quot;Underholdning&quot;, … &quot;Musik og lyd&quot;]</td><td>118</td><td>[133]</td><td>&quot;nyheder&quot;</td><td>0</td><td>0</td><td>0</td><td>0.9468</td><td>&quot;Negative&quot;</td><td>1172774040</td><td>2007-03-01</td><td>4</td></tr><tr><td>&hellip;</td><td>&hellip;</td><td>&hellip;</td><td>&hellip;</td><td>&hellip;</td><td>&hellip;</td><td>&hellip;</td><td>&hellip;</td><td>&hellip;</td><td>&hellip;</td><td>&hellip;</td><td>&hellip;</td><td>&hellip;</td><td>&hellip;</td><td>&hellip;</td><td>&hellip;</td><td>&hellip;</td><td>&hellip;</td><td>&hellip;</td><td>&hellip;</td><td>&hellip;</td><td>&hellip;</td><td>&hellip;</td></tr><tr><td>125536</td><td>9803505</td><td>&quot;Flyvende Anton…</td><td>&quot;Verdens nummer…</td><td>false</td><td>&quot;Anders Antonse…</td><td>2023-06-08 05:54:06</td><td>[9803516]</td><td>&quot;article_defaul…</td><td>[&quot;Alexandra Bøje&quot;, &quot;All England&quot;, … &quot;Taiwan&quot;]</td><td>[&quot;PER&quot;, &quot;PROD&quot;, … &quot;LOC&quot;]</td><td>[&quot;Kendt&quot;, &quot;Begivenhed&quot;, … &quot;Sportsbegivenhed&quot;]</td><td>142</td><td>[327, 330]</td><td>&quot;sport&quot;</td><td>13320</td><td>959</td><td>55691</td><td>0.8884</td><td>&quot;Positive&quot;</td><td>1686203646</td><td>2023-06-08</td><td>4</td></tr><tr><td>125537</td><td>9803510</td><td>&quot;Nedschroef Lan…</td><td>&quot;Hos Nedschroef…</td><td>false</td><td>&quot;Et udbytte på …</td><td>2023-06-08 05:48:51</td><td>[9803509]</td><td>&quot;article_defaul…</td><td>[&quot;Bytoften&quot;, &quot;Erhvervsstyrelsen&quot;, … &quot;Plettenberg Gmbh&quot;]</td><td>[&quot;LOC&quot;, &quot;ORG&quot;, … &quot;PER&quot;]</td><td>[&quot;Erhverv&quot;, &quot;Privat virksomhed&quot;, &quot;Økonomi&quot;]</td><td>2889</td><td>[2890, 2900]</td><td>&quot;auto&quot;</td><td>12</td><td>1</td><td>25</td><td>0.8723</td><td>&quot;Negative&quot;</td><td>1686203331</td><td>2023-06-08</td><td>4</td></tr><tr><td>125538</td><td>9803525</td><td>&quot;Dansk skuespil…</td><td>&quot;Julie R. Ølgaa…</td><td>false</td><td>&quot;Mens hun lå sø…</td><td>2023-06-08 06:45:46</td><td>[9803518, 9803519, … 9803524]</td><td>&quot;article_defaul…</td><td>[&quot;Cooper&quot;, &quot;Englemageren&quot;, … &quot;Svangerskabsforgiftning&quot;]</td><td>[&quot;PER&quot;, &quot;PROD&quot;, … &quot;MISC&quot;]</td><td>[&quot;Kendt&quot;, &quot;Livsstil&quot;, … &quot;Sygdom og behandling&quot;]</td><td>414</td><td>[425]</td><td>&quot;underholdning&quot;</td><td>315391</td><td>50361</td><td>2550671</td><td>0.7737</td><td>&quot;Negative&quot;</td><td>1686206746</td><td>2023-06-08</td><td>4</td></tr><tr><td>125539</td><td>9803560</td><td>&quot;Så slemt er de…</td><td>&quot;Tusindvis af h…</td><td>false</td><td>&quot;Et område på o…</td><td>2023-06-08 06:25:42</td><td>null</td><td>&quot;article_defaul…</td><td>[&quot;Dnepr&quot;, &quot;Kherson&quot;, … &quot;Ukraine&quot;]</td><td>[&quot;LOC&quot;, &quot;LOC&quot;, … &quot;LOC&quot;]</td><td>[&quot;International politik&quot;, &quot;Katastrofe&quot;, … &quot;Politik&quot;]</td><td>118</td><td>[]</td><td>&quot;nyheder&quot;</td><td>21318</td><td>1237</td><td>67514</td><td>0.9927</td><td>&quot;Negative&quot;</td><td>1686205542</td><td>2023-06-08</td><td>4</td></tr><tr><td>125540</td><td>9803607</td><td>&quot;Aktion mod svi…</td><td>&quot;Flere kvinder …</td><td>false</td><td>&quot;Mindst otte pe…</td><td>2023-06-08 06:54:53</td><td>[9803906]</td><td>&quot;article_defaul…</td><td>[&quot;Adam&quot;, &quot;Bente&quot;, … &quot;Twitter&quot;]</td><td>[&quot;PER&quot;, &quot;PER&quot;, … &quot;ORG&quot;]</td><td>[&quot;Kriminalitet&quot;, &quot;Bedrageri&quot;]</td><td>140</td><td>[]</td><td>&quot;krimi&quot;</td><td>331057</td><td>79590</td><td>3694760</td><td>0.9948</td><td>&quot;Negative&quot;</td><td>1686207293</td><td>2023-06-08</td><td>4</td></tr></tbody></table></div>"
      ],
      "text/plain": [
       "shape: (125_541, 23)\n",
       "┌───────────┬───────────┬───────────┬───────────┬───┬───────────┬───────────┬───────────┬──────────┐\n",
       "│ article_i ┆ article_i ┆ title     ┆ subtitle  ┆ … ┆ sentiment ┆ published ┆ published ┆ publishe │\n",
       "│ ndex      ┆ d         ┆ ---       ┆ ---       ┆   ┆ _label    ┆ _ts       ┆ _date     ┆ d_weekda │\n",
       "│ ---       ┆ ---       ┆ str       ┆ str       ┆   ┆ ---       ┆ ---       ┆ ---       ┆ y        │\n",
       "│ i32       ┆ i32       ┆           ┆           ┆   ┆ str       ┆ i32       ┆ date      ┆ ---      │\n",
       "│           ┆           ┆           ┆           ┆   ┆           ┆           ┆           ┆ i8       │\n",
       "╞═══════════╪═══════════╪═══════════╪═══════════╪═══╪═══════════╪═══════════╪═══════════╪══════════╡\n",
       "│ 0         ┆ 3000022   ┆ Hanks     ┆ Tom Hanks ┆ … ┆ Negative  ┆ 115874425 ┆ 2006-09-2 ┆ 3        │\n",
       "│           ┆           ┆ beskyldt  ┆ har angiv ┆   ┆           ┆ 8         ┆ 0         ┆          │\n",
       "│           ┆           ┆ for misha ┆ eligt     ┆   ┆           ┆           ┆           ┆          │\n",
       "│           ┆           ┆ ndling    ┆ mishand…  ┆   ┆           ┆           ┆           ┆          │\n",
       "│ 1         ┆ 3000063   ┆ Bostrups  ┆ Studievær ┆ … ┆ Neutral   ┆ 115908393 ┆ 2006-09-2 ┆ 7        │\n",
       "│           ┆           ┆ aske      ┆ ten blev  ┆   ┆           ┆ 0         ┆ 4         ┆          │\n",
       "│           ┆           ┆ spredt i  ┆ mindet    ┆   ┆           ┆           ┆           ┆          │\n",
       "│           ┆           ┆ Furesøen  ┆ med gla…  ┆   ┆           ┆           ┆           ┆          │\n",
       "│ 2         ┆ 3000613   ┆ Jesper    ┆ Den       ┆ … ┆ Negative  ┆ 114717414 ┆ 2006-05-0 ┆ 2        │\n",
       "│           ┆           ┆ Olsen     ┆ tidligere ┆   ┆           ┆ 0         ┆ 9         ┆          │\n",
       "│           ┆           ┆ ramt af   ┆ danske    ┆   ┆           ┆           ┆           ┆          │\n",
       "│           ┆           ┆ hjerneblø ┆ landshold ┆   ┆           ┆           ┆           ┆          │\n",
       "│           ┆           ┆ dn…       ┆ ss…       ┆   ┆           ┆           ┆           ┆          │\n",
       "│ 3         ┆ 3000700   ┆ Madonna   ┆ 47-årige  ┆ … ┆ Neutral   ┆ 114674059 ┆ 2006-05-0 ┆ 4        │\n",
       "│           ┆           ┆ topløs    ┆ Madonna   ┆   ┆           ┆ 2         ┆ 4         ┆          │\n",
       "│           ┆           ┆ med heste ┆ poserer   ┆   ┆           ┆           ┆           ┆          │\n",
       "│           ┆           ┆           ┆ både to…  ┆   ┆           ┆           ┆           ┆          │\n",
       "│ 4         ┆ 3000840   ┆ Otto Bran ┆ Sangeren  ┆ … ┆ Negative  ┆ 117277404 ┆ 2007-03-0 ┆ 4        │\n",
       "│           ┆           ┆ denburg   ┆ og skuesp ┆   ┆           ┆ 0         ┆ 1         ┆          │\n",
       "│           ┆           ┆ er død    ┆ illeren   ┆   ┆           ┆           ┆           ┆          │\n",
       "│           ┆           ┆           ┆ Otto B…   ┆   ┆           ┆           ┆           ┆          │\n",
       "│ …         ┆ …         ┆ …         ┆ …         ┆ … ┆ …         ┆ …         ┆ …         ┆ …        │\n",
       "│ 125536    ┆ 9803505   ┆ Flyvende  ┆ Verdens   ┆ … ┆ Positive  ┆ 168620364 ┆ 2023-06-0 ┆ 4        │\n",
       "│           ┆           ┆ Antonsen  ┆ nummer    ┆   ┆           ┆ 6         ┆ 8         ┆          │\n",
       "│           ┆           ┆ knuser    ┆ syv, Chou ┆   ┆           ┆           ┆           ┆          │\n",
       "│           ┆           ┆ topspil…  ┆ Tien-Ch…  ┆   ┆           ┆           ┆           ┆          │\n",
       "│ 125537    ┆ 9803510   ┆ Nedschroe ┆ Hos Nedsc ┆ … ┆ Negative  ┆ 168620333 ┆ 2023-06-0 ┆ 4        │\n",
       "│           ┆           ┆ f         ┆ hroef     ┆   ┆           ┆ 1         ┆ 8         ┆          │\n",
       "│           ┆           ┆ Langeskov ┆ Langeskov ┆   ┆           ┆           ┆           ┆          │\n",
       "│           ┆           ┆ udbetalte ┆ ApS udb…  ┆   ┆           ┆           ┆           ┆          │\n",
       "│           ┆           ┆ u…        ┆           ┆   ┆           ┆           ┆           ┆          │\n",
       "│ 125538    ┆ 9803525   ┆ Dansk sku ┆ Julie R.  ┆ … ┆ Negative  ┆ 168620674 ┆ 2023-06-0 ┆ 4        │\n",
       "│           ┆           ┆ espiller: ┆ Ølgaard   ┆   ┆           ┆ 6         ┆ 8         ┆          │\n",
       "│           ┆           ┆ - Jeg     ┆ fik akut  ┆   ┆           ┆           ┆           ┆          │\n",
       "│           ┆           ┆ nægtede…  ┆ kejser…   ┆   ┆           ┆           ┆           ┆          │\n",
       "│ 125539    ┆ 9803560   ┆ Så slemt  ┆ Tusindvis ┆ … ┆ Negative  ┆ 168620554 ┆ 2023-06-0 ┆ 4        │\n",
       "│           ┆           ┆ er det:   ┆ af huse   ┆   ┆           ┆ 2         ┆ 8         ┆          │\n",
       "│           ┆           ┆ 14.000    ┆ står      ┆   ┆           ┆           ┆           ┆          │\n",
       "│           ┆           ┆ huse er … ┆ under     ┆   ┆           ┆           ┆           ┆          │\n",
       "│           ┆           ┆           ┆ van…      ┆   ┆           ┆           ┆           ┆          │\n",
       "│ 125540    ┆ 9803607   ┆ Aktion    ┆ Flere     ┆ … ┆ Negative  ┆ 168620729 ┆ 2023-06-0 ┆ 4        │\n",
       "│           ┆           ┆ mod svind ┆ kvinder   ┆   ┆           ┆ 3         ┆ 8         ┆          │\n",
       "│           ┆           ┆ lere:     ┆ er ifølge ┆   ┆           ┆           ┆           ┆          │\n",
       "│           ┆           ┆ Seks      ┆ politiet… ┆   ┆           ┆           ┆           ┆          │\n",
       "│           ┆           ┆ perso…    ┆           ┆   ┆           ┆           ┆           ┆          │\n",
       "└───────────┴───────────┴───────────┴───────────┴───┴───────────┴───────────┴───────────┴──────────┘"
      ]
     },
     "metadata": {},
     "output_type": "display_data"
    },
    {
     "data": {
      "text/plain": [
       "0.3139664772897959"
      ]
     },
     "metadata": {},
     "output_type": "display_data"
    }
   ],
   "source": [
    "df = pl.read_parquet(PREPROCESS_DIR / \"v0100_articles\" / \"dataset.parquet\")\n",
    "display(\n",
    "    df,\n",
    "    df.estimated_size(\"gb\"),\n",
    ")"
   ]
  },
  {
   "cell_type": "code",
   "execution_count": 4,
   "metadata": {},
   "outputs": [
    {
     "data": {
      "text/html": [
       "<div><style>\n",
       ".dataframe > thead > tr,\n",
       ".dataframe > tbody > tr {\n",
       "  text-align: right;\n",
       "  white-space: pre-wrap;\n",
       "}\n",
       "</style>\n",
       "<small>shape: (125_541, 11)</small><table border=\"1\" class=\"dataframe\"><thead><tr><th>article_index</th><th>inview_elapsed_mins</th><th>inview_counts</th><th>ner_clusters_ids</th><th>entity_groups_ids</th><th>topics_ids</th><th>image_ids_ids</th><th>category_ids</th><th>subcategory_ids</th><th>history_last_24h_counts</th><th>history_last_1h_counts</th></tr><tr><td>i32</td><td>list[i16]</td><td>list[i16]</td><td>list[u16]</td><td>list[u8]</td><td>list[u8]</td><td>list[u8]</td><td>list[u8]</td><td>list[u8]</td><td>i32</td><td>i32</td></tr></thead><tbody><tr><td>0</td><td>[]</td><td>[]</td><td>[1]</td><td>[3]</td><td>[5, 2, … 63]</td><td>[1]</td><td>[3]</td><td>[8]</td><td>0</td><td>0</td></tr><tr><td>1</td><td>[]</td><td>[]</td><td>[2]</td><td>[5]</td><td>[2, 4, … 38]</td><td>[1]</td><td>[2]</td><td>[3]</td><td>2</td><td>2</td></tr><tr><td>2</td><td>[]</td><td>[]</td><td>[23, 2453]</td><td>[4, 3]</td><td>[2, 6, … 23]</td><td>[1]</td><td>[5]</td><td>[4, 17]</td><td>2</td><td>0</td></tr><tr><td>3</td><td>[]</td><td>[]</td><td>[2]</td><td>[5]</td><td>[2, 3, 4]</td><td>[1]</td><td>[3]</td><td>[8]</td><td>0</td><td>0</td></tr><tr><td>4</td><td>[]</td><td>[]</td><td>[2]</td><td>[5]</td><td>[2, 4, … 24]</td><td>[1]</td><td>[2]</td><td>[3]</td><td>0</td><td>0</td></tr><tr><td>&hellip;</td><td>&hellip;</td><td>&hellip;</td><td>&hellip;</td><td>&hellip;</td><td>&hellip;</td><td>&hellip;</td><td>&hellip;</td><td>&hellip;</td><td>&hellip;</td><td>&hellip;</td></tr><tr><td>125536</td><td>[]</td><td>[]</td><td>[3682, 2040, … 1137]</td><td>[3, 6, … 8]</td><td>[2, 8, … 14]</td><td>[1]</td><td>[5]</td><td>[13, 90]</td><td>0</td><td>0</td></tr><tr><td>125537</td><td>[]</td><td>[]</td><td>[1, 34, … 5249]</td><td>[4, 2, 3]</td><td>[7, 17, 10]</td><td>[1]</td><td>[10]</td><td>[12, 34]</td><td>0</td><td>0</td></tr><tr><td>125538</td><td>[]</td><td>[]</td><td>[1]</td><td>[3, 6, 7]</td><td>[2, 3, … 23]</td><td>[1]</td><td>[3]</td><td>[5]</td><td>0</td><td>0</td></tr><tr><td>125539</td><td>[]</td><td>[]</td><td>[3648, 364, … 8]</td><td>[4, 6, … 2]</td><td>[29, 15, … 11]</td><td>[2]</td><td>[2]</td><td>[2]</td><td>0</td><td>0</td></tr><tr><td>125540</td><td>[]</td><td>[]</td><td>[3686, 1, … 6]</td><td>[3, 4, 2]</td><td>[5, 52]</td><td>[1]</td><td>[4]</td><td>[2]</td><td>0</td><td>0</td></tr></tbody></table></div>"
      ],
      "text/plain": [
       "shape: (125_541, 11)\n",
       "┌───────────┬───────────┬───────────┬───────────┬───┬───────────┬───────────┬───────────┬──────────┐\n",
       "│ article_i ┆ inview_el ┆ inview_co ┆ ner_clust ┆ … ┆ category_ ┆ subcatego ┆ history_l ┆ history_ │\n",
       "│ ndex      ┆ apsed_min ┆ unts      ┆ ers_ids   ┆   ┆ ids       ┆ ry_ids    ┆ ast_24h_c ┆ last_1h_ │\n",
       "│ ---       ┆ s         ┆ ---       ┆ ---       ┆   ┆ ---       ┆ ---       ┆ ounts     ┆ counts   │\n",
       "│ i32       ┆ ---       ┆ list[i16] ┆ list[u16] ┆   ┆ list[u8]  ┆ list[u8]  ┆ ---       ┆ ---      │\n",
       "│           ┆ list[i16] ┆           ┆           ┆   ┆           ┆           ┆ i32       ┆ i32      │\n",
       "╞═══════════╪═══════════╪═══════════╪═══════════╪═══╪═══════════╪═══════════╪═══════════╪══════════╡\n",
       "│ 0         ┆ []        ┆ []        ┆ [1]       ┆ … ┆ [3]       ┆ [8]       ┆ 0         ┆ 0        │\n",
       "│ 1         ┆ []        ┆ []        ┆ [2]       ┆ … ┆ [2]       ┆ [3]       ┆ 2         ┆ 2        │\n",
       "│ 2         ┆ []        ┆ []        ┆ [23,      ┆ … ┆ [5]       ┆ [4, 17]   ┆ 2         ┆ 0        │\n",
       "│           ┆           ┆           ┆ 2453]     ┆   ┆           ┆           ┆           ┆          │\n",
       "│ 3         ┆ []        ┆ []        ┆ [2]       ┆ … ┆ [3]       ┆ [8]       ┆ 0         ┆ 0        │\n",
       "│ 4         ┆ []        ┆ []        ┆ [2]       ┆ … ┆ [2]       ┆ [3]       ┆ 0         ┆ 0        │\n",
       "│ …         ┆ …         ┆ …         ┆ …         ┆ … ┆ …         ┆ …         ┆ …         ┆ …        │\n",
       "│ 125536    ┆ []        ┆ []        ┆ [3682,    ┆ … ┆ [5]       ┆ [13, 90]  ┆ 0         ┆ 0        │\n",
       "│           ┆           ┆           ┆ 2040, …   ┆   ┆           ┆           ┆           ┆          │\n",
       "│           ┆           ┆           ┆ 1137]     ┆   ┆           ┆           ┆           ┆          │\n",
       "│ 125537    ┆ []        ┆ []        ┆ [1, 34, … ┆ … ┆ [10]      ┆ [12, 34]  ┆ 0         ┆ 0        │\n",
       "│           ┆           ┆           ┆ 5249]     ┆   ┆           ┆           ┆           ┆          │\n",
       "│ 125538    ┆ []        ┆ []        ┆ [1]       ┆ … ┆ [3]       ┆ [5]       ┆ 0         ┆ 0        │\n",
       "│ 125539    ┆ []        ┆ []        ┆ [3648,    ┆ … ┆ [2]       ┆ [2]       ┆ 0         ┆ 0        │\n",
       "│           ┆           ┆           ┆ 364, … 8] ┆   ┆           ┆           ┆           ┆          │\n",
       "│ 125540    ┆ []        ┆ []        ┆ [3686, 1, ┆ … ┆ [4]       ┆ [2]       ┆ 0         ┆ 0        │\n",
       "│           ┆           ┆           ┆ … 6]      ┆   ┆           ┆           ┆           ┆          │\n",
       "└───────────┴───────────┴───────────┴───────────┴───┴───────────┴───────────┴───────────┴──────────┘"
      ]
     },
     "metadata": {},
     "output_type": "display_data"
    },
    {
     "data": {
      "text/plain": [
       "0.027919704094529152"
      ]
     },
     "metadata": {},
     "output_type": "display_data"
    }
   ],
   "source": [
    "df = pl.concat(\n",
    "    [\n",
    "        pl.read_parquet(\n",
    "            PREPROCESS_DIR\n",
    "            / \"v0101_article_inviews_in_split\"\n",
    "            / \"train\"\n",
    "            / \"dataset.parquet\"\n",
    "        ),\n",
    "        pl.read_parquet(\n",
    "            PREPROCESS_DIR / \"v0102_article_metadata_id\" / \"dataset.parquet\"\n",
    "        ).select(pl.exclude(\"article_index\")),\n",
    "        pl.read_parquet(\n",
    "            PREPROCESS_DIR / \"v0103_article_history_counts\" / \"test\" / \"dataset.parquet\"\n",
    "        ).select(pl.exclude(\"article_index\")),\n",
    "    ],\n",
    "    how=\"horizontal\",\n",
    ")\n",
    "display(\n",
    "    df,\n",
    "    df.estimated_size(\"gb\"),\n",
    ")"
   ]
  },
  {
   "cell_type": "markdown",
   "metadata": {},
   "source": [
    "## Users"
   ]
  },
  {
   "cell_type": "code",
   "execution_count": 4,
   "metadata": {},
   "outputs": [
    {
     "data": {
      "text/html": [
       "<div><style>\n",
       ".dataframe > thead > tr,\n",
       ".dataframe > tbody > tr {\n",
       "  text-align: right;\n",
       "  white-space: pre-wrap;\n",
       "}\n",
       "</style>\n",
       "<small>shape: (788_090, 7)</small><table border=\"1\" class=\"dataframe\"><thead><tr><th>user_index</th><th>user_id</th><th>impression_ts</th><th>article_indices</th><th>scroll_percentage</th><th>read_time</th><th>in_small</th></tr><tr><td>i32</td><td>i32</td><td>list[u32]</td><td>list[i32]</td><td>list[u8]</td><td>list[u16]</td><td>bool</td></tr></thead><tbody><tr><td>0</td><td>10000</td><td>[1683493492, 1683727681, … 1684350620]</td><td>[119617, 119846, … 121937]</td><td>[47, 50, … 58]</td><td>[16, 18, … 12]</td><td>false</td></tr><tr><td>1</td><td>10009</td><td>[1682591087, 1682591100, … 1683891034]</td><td>[117482, 117503, … 120870]</td><td>[29, 51, … 81]</td><td>[8, 4, … 497]</td><td>false</td></tr><tr><td>2</td><td>10010</td><td>[1682676515, 1683275254, … 1684303425]</td><td>[117711, 118611, … 121729]</td><td>[0, 0, … 0]</td><td>[0, 56, … 0]</td><td>false</td></tr><tr><td>3</td><td>10012</td><td>[1682945449, 1682945481, … 1684330993]</td><td>[118313, 116155, … 121895]</td><td>[80, 73, … 100]</td><td>[12, 6, … 20]</td><td>false</td></tr><tr><td>4</td><td>10016</td><td>[1682580005, 1682580227, … 1684307308]</td><td>[117474, 117386, … 121409]</td><td>[64, 91, … 83]</td><td>[3, 107, … 33]</td><td>false</td></tr><tr><td>&hellip;</td><td>&hellip;</td><td>&hellip;</td><td>&hellip;</td><td>&hellip;</td><td>&hellip;</td><td>&hellip;</td></tr><tr><td>788085</td><td>2590678</td><td>[1682585199, 1682585205, … 1684365513]</td><td>[117351, 117472, … 121851]</td><td>[0, 96, … 36]</td><td>[1, 50, … 127]</td><td>false</td></tr><tr><td>788086</td><td>2590679</td><td>[1683889407, 1683889432, … 1684351292]</td><td>[120867, 120698, … 122008]</td><td>[0, 30, … 81]</td><td>[25, 38, … 5]</td><td>false</td></tr><tr><td>788087</td><td>2590683</td><td>[1682593038, 1682593061, … 1684390986]</td><td>[117514, 117521, … 122030]</td><td>[88, 76, … 100]</td><td>[21, 12, … 54]</td><td>false</td></tr><tr><td>788088</td><td>2590687</td><td>[1682792918, 1682792952, … 1684388096]</td><td>[117531, 118049, … 121840]</td><td>[18, 0, … 32]</td><td>[24, 17, … 6]</td><td>false</td></tr><tr><td>788089</td><td>2590692</td><td>[1682684542, 1682684613, … 1684083837]</td><td>[117829, 117789, … 121248]</td><td>[100, 100, … 100]</td><td>[71, 116, … 11]</td><td>false</td></tr></tbody></table></div>"
      ],
      "text/plain": [
       "shape: (788_090, 7)\n",
       "┌────────────┬─────────┬────────────────┬───────────────┬───────────────┬───────────────┬──────────┐\n",
       "│ user_index ┆ user_id ┆ impression_ts  ┆ article_indic ┆ scroll_percen ┆ read_time     ┆ in_small │\n",
       "│ ---        ┆ ---     ┆ ---            ┆ es            ┆ tage          ┆ ---           ┆ ---      │\n",
       "│ i32        ┆ i32     ┆ list[u32]      ┆ ---           ┆ ---           ┆ list[u16]     ┆ bool     │\n",
       "│            ┆         ┆                ┆ list[i32]     ┆ list[u8]      ┆               ┆          │\n",
       "╞════════════╪═════════╪════════════════╪═══════════════╪═══════════════╪═══════════════╪══════════╡\n",
       "│ 0          ┆ 10000   ┆ [1683493492,   ┆ [119617,      ┆ [47, 50, …    ┆ [16, 18, …    ┆ false    │\n",
       "│            ┆         ┆ 1683727681, …  ┆ 119846, …     ┆ 58]           ┆ 12]           ┆          │\n",
       "│            ┆         ┆ 16843…         ┆ 121937]       ┆               ┆               ┆          │\n",
       "│ 1          ┆ 10009   ┆ [1682591087,   ┆ [117482,      ┆ [29, 51, …    ┆ [8, 4, … 497] ┆ false    │\n",
       "│            ┆         ┆ 1682591100, …  ┆ 117503, …     ┆ 81]           ┆               ┆          │\n",
       "│            ┆         ┆ 16838…         ┆ 120870]       ┆               ┆               ┆          │\n",
       "│ 2          ┆ 10010   ┆ [1682676515,   ┆ [117711,      ┆ [0, 0, … 0]   ┆ [0, 56, … 0]  ┆ false    │\n",
       "│            ┆         ┆ 1683275254, …  ┆ 118611, …     ┆               ┆               ┆          │\n",
       "│            ┆         ┆ 16843…         ┆ 121729]       ┆               ┆               ┆          │\n",
       "│ 3          ┆ 10012   ┆ [1682945449,   ┆ [118313,      ┆ [80, 73, …    ┆ [12, 6, … 20] ┆ false    │\n",
       "│            ┆         ┆ 1682945481, …  ┆ 116155, …     ┆ 100]          ┆               ┆          │\n",
       "│            ┆         ┆ 16843…         ┆ 121895]       ┆               ┆               ┆          │\n",
       "│ 4          ┆ 10016   ┆ [1682580005,   ┆ [117474,      ┆ [64, 91, …    ┆ [3, 107, …    ┆ false    │\n",
       "│            ┆         ┆ 1682580227, …  ┆ 117386, …     ┆ 83]           ┆ 33]           ┆          │\n",
       "│            ┆         ┆ 16843…         ┆ 121409]       ┆               ┆               ┆          │\n",
       "│ …          ┆ …       ┆ …              ┆ …             ┆ …             ┆ …             ┆ …        │\n",
       "│ 788085     ┆ 2590678 ┆ [1682585199,   ┆ [117351,      ┆ [0, 96, … 36] ┆ [1, 50, …     ┆ false    │\n",
       "│            ┆         ┆ 1682585205, …  ┆ 117472, …     ┆               ┆ 127]          ┆          │\n",
       "│            ┆         ┆ 16843…         ┆ 121851]       ┆               ┆               ┆          │\n",
       "│ 788086     ┆ 2590679 ┆ [1683889407,   ┆ [120867,      ┆ [0, 30, … 81] ┆ [25, 38, … 5] ┆ false    │\n",
       "│            ┆         ┆ 1683889432, …  ┆ 120698, …     ┆               ┆               ┆          │\n",
       "│            ┆         ┆ 16843…         ┆ 122008]       ┆               ┆               ┆          │\n",
       "│ 788087     ┆ 2590683 ┆ [1682593038,   ┆ [117514,      ┆ [88, 76, …    ┆ [21, 12, …    ┆ false    │\n",
       "│            ┆         ┆ 1682593061, …  ┆ 117521, …     ┆ 100]          ┆ 54]           ┆          │\n",
       "│            ┆         ┆ 16843…         ┆ 122030]       ┆               ┆               ┆          │\n",
       "│ 788088     ┆ 2590687 ┆ [1682792918,   ┆ [117531,      ┆ [18, 0, … 32] ┆ [24, 17, … 6] ┆ false    │\n",
       "│            ┆         ┆ 1682792952, …  ┆ 118049, …     ┆               ┆               ┆          │\n",
       "│            ┆         ┆ 16843…         ┆ 121840]       ┆               ┆               ┆          │\n",
       "│ 788089     ┆ 2590692 ┆ [1682684542,   ┆ [117829,      ┆ [100, 100, …  ┆ [71, 116, …   ┆ false    │\n",
       "│            ┆         ┆ 1682684613, …  ┆ 117789, …     ┆ 100]          ┆ 11]           ┆          │\n",
       "│            ┆         ┆ 16840…         ┆ 121248]       ┆               ┆               ┆          │\n",
       "└────────────┴─────────┴────────────────┴───────────────┴───────────────┴───────────────┴──────────┘"
      ]
     },
     "metadata": {},
     "output_type": "display_data"
    },
    {
     "data": {
      "text/plain": [
       "1.3118930850178003"
      ]
     },
     "metadata": {},
     "output_type": "display_data"
    }
   ],
   "source": [
    "df = pl.read_parquet(\n",
    "    PREPROCESS_DIR / \"v0200_users\" / \"train\" / \"dataset.parquet\",\n",
    ")\n",
    "display(\n",
    "    df,\n",
    "    df.estimated_size(\"gb\"),\n",
    ")"
   ]
  },
  {
   "cell_type": "code",
   "execution_count": 5,
   "metadata": {},
   "outputs": [
    {
     "data": {
      "text/html": [
       "<div><style>\n",
       ".dataframe > thead > tr,\n",
       ".dataframe > tbody > tr {\n",
       "  text-align: right;\n",
       "  white-space: pre-wrap;\n",
       "}\n",
       "</style>\n",
       "<small>shape: (788_090, 4)</small><table border=\"1\" class=\"dataframe\"><thead><tr><th>user_index</th><th>impression_ids_in_split</th><th>user_inviews_in_split</th><th>impression_ts_in_split</th></tr><tr><td>i32</td><td>list[u32]</td><td>list[list[i32]]</td><td>list[i32]</td></tr></thead><tbody><tr><td>0</td><td>[304117412]</td><td>[[121930, 122170, … 121370]]</td><td>[1684437592]</td></tr><tr><td>1</td><td>[192466416, 478402566, … 93868643]</td><td>[[122732, 122707, … 122720], [122744, 122736, … 122742], … [122740, 122952, … 122917]]</td><td>[1684752652, 1684758074, … 1684836878]</td></tr><tr><td>2</td><td>[135776386, 487155168]</td><td>[[122775, 122747, … 122784], [118273, 122903, … 122901]]</td><td>[1684768267, 1684825050]</td></tr><tr><td>3</td><td>[505263537, 567191331, … 123465293]</td><td>[[122093, 122672, … 121922], [122596, 122715, … 122682], … [123183, 123198, … 123065]]</td><td>[1684740576, 1684748756, … 1684930939]</td></tr><tr><td>4</td><td>[505263545, 192466436, … 267308926]</td><td>[[122676, 122484, … 122680], [52815, 99060, … 122722], … [123224, 123215, … 123220]]</td><td>[1684739248, 1684751401, … 1684929042]</td></tr><tr><td>&hellip;</td><td>&hellip;</td><td>&hellip;</td><td>&hellip;</td></tr><tr><td>788085</td><td>[396335480, 396335478, … 470312000]</td><td>[[122181, 122178, … 122185], [122180, 121703, … 122184], … [123374, 122831, … 123368]]</td><td>[1684447070, 1684447085, … 1684959799]</td></tr><tr><td>788086</td><td>[201500158, 201500161, … 226191873]</td><td>[[122077, 122063, … 122031], [121401, 118816, … 122073], … [122966, 123368, … 123020]]</td><td>[1684396241, 1684396272, … 1684950082]</td></tr><tr><td>788087</td><td>[526845290, 526845295, … 470312005]</td><td>[[122092, 122182, … 122080], [121615, 118613, … 121835], … [123392, 123219, … 123027]]</td><td>[1684467348, 1684467526, … 1684958942]</td></tr><tr><td>788088</td><td>[184957752, 184957754, … 109063413]</td><td>[[121922, 98188, … 122321], [122542, 122633, … 122502], … [121430, 123402, … 123369]]</td><td>[1684731122, 1684731197, … 1684991146]</td></tr><tr><td>788089</td><td>[453522925, 453522928, … 389192227]</td><td>[[120611, 122185, … 122083], [121381, 122178, … 121850], … [123094, 113062, … 113303]]</td><td>[1684442662, 1684442756, … 1684877246]</td></tr></tbody></table></div>"
      ],
      "text/plain": [
       "shape: (788_090, 4)\n",
       "┌────────────┬──────────────────────────┬───────────────────────┬────────────────────────────┐\n",
       "│ user_index ┆ impression_ids_in_split  ┆ user_inviews_in_split ┆ impression_ts_in_split     │\n",
       "│ ---        ┆ ---                      ┆ ---                   ┆ ---                        │\n",
       "│ i32        ┆ list[u32]                ┆ list[list[i32]]       ┆ list[i32]                  │\n",
       "╞════════════╪══════════════════════════╪═══════════════════════╪════════════════════════════╡\n",
       "│ 0          ┆ [304117412]              ┆ [[121930, 122170, …   ┆ [1684437592]               │\n",
       "│            ┆                          ┆ 121370]]              ┆                            │\n",
       "│ 1          ┆ [192466416, 478402566, … ┆ [[122732, 122707, …   ┆ [1684752652, 1684758074, … │\n",
       "│            ┆ 9386864…                 ┆ 122720], [12…         ┆ 16848…                     │\n",
       "│ 2          ┆ [135776386, 487155168]   ┆ [[122775, 122747, …   ┆ [1684768267, 1684825050]   │\n",
       "│            ┆                          ┆ 122784], [11…         ┆                            │\n",
       "│ 3          ┆ [505263537, 567191331, … ┆ [[122093, 122672, …   ┆ [1684740576, 1684748756, … │\n",
       "│            ┆ 1234652…                 ┆ 121922], [12…         ┆ 16849…                     │\n",
       "│ 4          ┆ [505263545, 192466436, … ┆ [[122676, 122484, …   ┆ [1684739248, 1684751401, … │\n",
       "│            ┆ 2673089…                 ┆ 122680], [52…         ┆ 16849…                     │\n",
       "│ …          ┆ …                        ┆ …                     ┆ …                          │\n",
       "│ 788085     ┆ [396335480, 396335478, … ┆ [[122181, 122178, …   ┆ [1684447070, 1684447085, … │\n",
       "│            ┆ 4703120…                 ┆ 122185], [12…         ┆ 16849…                     │\n",
       "│ 788086     ┆ [201500158, 201500161, … ┆ [[122077, 122063, …   ┆ [1684396241, 1684396272, … │\n",
       "│            ┆ 2261918…                 ┆ 122031], [12…         ┆ 16849…                     │\n",
       "│ 788087     ┆ [526845290, 526845295, … ┆ [[122092, 122182, …   ┆ [1684467348, 1684467526, … │\n",
       "│            ┆ 4703120…                 ┆ 122080], [12…         ┆ 16849…                     │\n",
       "│ 788088     ┆ [184957752, 184957754, … ┆ [[121922, 98188, …    ┆ [1684731122, 1684731197, … │\n",
       "│            ┆ 1090634…                 ┆ 122321], [122…        ┆ 16849…                     │\n",
       "│ 788089     ┆ [453522925, 453522928, … ┆ [[120611, 122185, …   ┆ [1684442662, 1684442756, … │\n",
       "│            ┆ 3891922…                 ┆ 122083], [12…         ┆ 16848…                     │\n",
       "└────────────┴──────────────────────────┴───────────────────────┴────────────────────────────┘"
      ]
     },
     "metadata": {},
     "output_type": "display_data"
    },
    {
     "data": {
      "text/plain": [
       "0.6988005004823208"
      ]
     },
     "metadata": {},
     "output_type": "display_data"
    }
   ],
   "source": [
    "df = pl.concat(\n",
    "    [\n",
    "        pl.read_parquet(\n",
    "            PREPROCESS_DIR / \"v0201_user_inviews_in_split\" / \"train\" / \"dataset.parquet\"\n",
    "        ),\n",
    "    ],\n",
    "    how=\"horizontal\",\n",
    ")\n",
    "display(\n",
    "    df,\n",
    "    df.estimated_size(\"gb\"),\n",
    ")"
   ]
  },
  {
   "cell_type": "markdown",
   "metadata": {},
   "source": [
    "## Impressions"
   ]
  },
  {
   "cell_type": "code",
   "execution_count": 6,
   "metadata": {},
   "outputs": [
    {
     "data": {
      "text/html": [
       "<div><style>\n",
       ".dataframe > thead > tr,\n",
       ".dataframe > tbody > tr {\n",
       "  text-align: right;\n",
       "  white-space: pre-wrap;\n",
       "}\n",
       "</style>\n",
       "<small>shape: (12_063_890, 20)</small><table border=\"1\" class=\"dataframe\"><thead><tr><th>impression_index</th><th>impression_id</th><th>impression_ts</th><th>impression_time</th><th>user_index</th><th>session_id</th><th>read_time</th><th>scroll_percentage</th><th>device_type</th><th>is_sso_user</th><th>gender</th><th>postcode</th><th>age</th><th>is_subscriber</th><th>next_read_time</th><th>next_scroll_percentage</th><th>article_indices_inview</th><th>article_indices_clicked</th><th>in_small</th><th>labels</th></tr><tr><td>i32</td><td>u32</td><td>i32</td><td>datetime[μs]</td><td>i32</td><td>u32</td><td>u16</td><td>u8</td><td>i8</td><td>bool</td><td>i8</td><td>i8</td><td>i8</td><td>bool</td><td>u16</td><td>u8</td><td>list[i32]</td><td>list[i32]</td><td>bool</td><td>list[i8]</td></tr></thead><tbody><tr><td>0</td><td>47727</td><td>1684704907</td><td>2023-05-21 21:35:07</td><td>2516</td><td>265</td><td>20</td><td>0</td><td>1</td><td>false</td><td>-1</td><td>-1</td><td>-1</td><td>false</td><td>34</td><td>100</td><td>[95773, 122630, … 99525]</td><td>[122630]</td><td>false</td><td>[0, 1, … 0]</td></tr><tr><td>1</td><td>47731</td><td>1684704753</td><td>2023-05-21 21:32:33</td><td>2516</td><td>265</td><td>13</td><td>0</td><td>1</td><td>false</td><td>-1</td><td>-1</td><td>-1</td><td>false</td><td>45</td><td>100</td><td>[122562, 122550, … 120591]</td><td>[120591]</td><td>false</td><td>[0, 0, … 1]</td></tr><tr><td>2</td><td>47736</td><td>1684704812</td><td>2023-05-21 21:33:32</td><td>2516</td><td>265</td><td>17</td><td>0</td><td>1</td><td>false</td><td>-1</td><td>-1</td><td>-1</td><td>false</td><td>78</td><td>100</td><td>[120591, 122562, … 122638]</td><td>[122579]</td><td>false</td><td>[0, 0, … 0]</td></tr><tr><td>3</td><td>47737</td><td>1684705097</td><td>2023-05-21 21:38:17</td><td>2516</td><td>265</td><td>27</td><td>0</td><td>1</td><td>false</td><td>-1</td><td>-1</td><td>-1</td><td>false</td><td>6</td><td>52</td><td>[122567, 122626, … 122602]</td><td>[122631]</td><td>false</td><td>[0, 0, … 0]</td></tr><tr><td>4</td><td>47740</td><td>1684704962</td><td>2023-05-21 21:36:02</td><td>2516</td><td>265</td><td>48</td><td>0</td><td>1</td><td>false</td><td>-1</td><td>-1</td><td>-1</td><td>false</td><td>32</td><td>100</td><td>[122595, 122629, … 122578]</td><td>[122578]</td><td>false</td><td>[0, 0, … 1]</td></tr><tr><td>&hellip;</td><td>&hellip;</td><td>&hellip;</td><td>&hellip;</td><td>&hellip;</td><td>&hellip;</td><td>&hellip;</td><td>&hellip;</td><td>&hellip;</td><td>&hellip;</td><td>&hellip;</td><td>&hellip;</td><td>&hellip;</td><td>&hellip;</td><td>&hellip;</td><td>&hellip;</td><td>&hellip;</td><td>&hellip;</td><td>&hellip;</td><td>&hellip;</td></tr><tr><td>12063885</td><td>580100982</td><td>1684405625</td><td>2023-05-18 10:27:05</td><td>641606</td><td>22980659</td><td>9</td><td>0</td><td>1</td><td>false</td><td>-1</td><td>-1</td><td>-1</td><td>false</td><td>12</td><td>36</td><td>[80968, 83923, … 122077]</td><td>[121825]</td><td>false</td><td>[0, 0, … 0]</td></tr><tr><td>12063886</td><td>580100984</td><td>1684405839</td><td>2023-05-18 10:30:39</td><td>641606</td><td>22980660</td><td>13</td><td>0</td><td>1</td><td>false</td><td>-1</td><td>-1</td><td>-1</td><td>false</td><td>30</td><td>100</td><td>[93279, 80968, … 115371]</td><td>[115371]</td><td>false</td><td>[0, 0, … 1]</td></tr><tr><td>12063887</td><td>580100987</td><td>1684405648</td><td>2023-05-18 10:27:28</td><td>641606</td><td>22980659</td><td>13</td><td>0</td><td>1</td><td>false</td><td>-1</td><td>-1</td><td>-1</td><td>false</td><td>19</td><td>24</td><td>[112546, 88472, … 93279]</td><td>[117165]</td><td>false</td><td>[0, 0, … 0]</td></tr><tr><td>12063888</td><td>580100996</td><td>1684404498</td><td>2023-05-18 10:08:18</td><td>641608</td><td>71230199</td><td>35</td><td>0</td><td>2</td><td>false</td><td>-1</td><td>-1</td><td>-1</td><td>false</td><td>14</td><td>22</td><td>[121911, 122084, … 122086]</td><td>[122084]</td><td>false</td><td>[0, 1, … 0]</td></tr><tr><td>12063889</td><td>580101002</td><td>1684405750</td><td>2023-05-18 10:29:10</td><td>641613</td><td>96282319</td><td>28</td><td>0</td><td>2</td><td>false</td><td>-1</td><td>-1</td><td>-1</td><td>false</td><td>6</td><td>78</td><td>[122031, 122098, … 121825]</td><td>[122073]</td><td>false</td><td>[0, 0, … 0]</td></tr></tbody></table></div>"
      ],
      "text/plain": [
       "shape: (12_063_890, 20)\n",
       "┌───────────┬───────────┬───────────┬───────────┬───┬───────────┬───────────┬──────────┬───────────┐\n",
       "│ impressio ┆ impressio ┆ impressio ┆ impressio ┆ … ┆ article_i ┆ article_i ┆ in_small ┆ labels    │\n",
       "│ n_index   ┆ n_id      ┆ n_ts      ┆ n_time    ┆   ┆ ndices_in ┆ ndices_cl ┆ ---      ┆ ---       │\n",
       "│ ---       ┆ ---       ┆ ---       ┆ ---       ┆   ┆ view      ┆ icked     ┆ bool     ┆ list[i8]  │\n",
       "│ i32       ┆ u32       ┆ i32       ┆ datetime[ ┆   ┆ ---       ┆ ---       ┆          ┆           │\n",
       "│           ┆           ┆           ┆ μs]       ┆   ┆ list[i32] ┆ list[i32] ┆          ┆           │\n",
       "╞═══════════╪═══════════╪═══════════╪═══════════╪═══╪═══════════╪═══════════╪══════════╪═══════════╡\n",
       "│ 0         ┆ 47727     ┆ 168470490 ┆ 2023-05-2 ┆ … ┆ [95773,   ┆ [122630]  ┆ false    ┆ [0, 1, …  │\n",
       "│           ┆           ┆ 7         ┆ 1         ┆   ┆ 122630, … ┆           ┆          ┆ 0]        │\n",
       "│           ┆           ┆           ┆ 21:35:07  ┆   ┆ 99525]    ┆           ┆          ┆           │\n",
       "│ 1         ┆ 47731     ┆ 168470475 ┆ 2023-05-2 ┆ … ┆ [122562,  ┆ [120591]  ┆ false    ┆ [0, 0, …  │\n",
       "│           ┆           ┆ 3         ┆ 1         ┆   ┆ 122550, … ┆           ┆          ┆ 1]        │\n",
       "│           ┆           ┆           ┆ 21:32:33  ┆   ┆ 120591]   ┆           ┆          ┆           │\n",
       "│ 2         ┆ 47736     ┆ 168470481 ┆ 2023-05-2 ┆ … ┆ [120591,  ┆ [122579]  ┆ false    ┆ [0, 0, …  │\n",
       "│           ┆           ┆ 2         ┆ 1         ┆   ┆ 122562, … ┆           ┆          ┆ 0]        │\n",
       "│           ┆           ┆           ┆ 21:33:32  ┆   ┆ 122638]   ┆           ┆          ┆           │\n",
       "│ 3         ┆ 47737     ┆ 168470509 ┆ 2023-05-2 ┆ … ┆ [122567,  ┆ [122631]  ┆ false    ┆ [0, 0, …  │\n",
       "│           ┆           ┆ 7         ┆ 1         ┆   ┆ 122626, … ┆           ┆          ┆ 0]        │\n",
       "│           ┆           ┆           ┆ 21:38:17  ┆   ┆ 122602]   ┆           ┆          ┆           │\n",
       "│ 4         ┆ 47740     ┆ 168470496 ┆ 2023-05-2 ┆ … ┆ [122595,  ┆ [122578]  ┆ false    ┆ [0, 0, …  │\n",
       "│           ┆           ┆ 2         ┆ 1         ┆   ┆ 122629, … ┆           ┆          ┆ 1]        │\n",
       "│           ┆           ┆           ┆ 21:36:02  ┆   ┆ 122578]   ┆           ┆          ┆           │\n",
       "│ …         ┆ …         ┆ …         ┆ …         ┆ … ┆ …         ┆ …         ┆ …        ┆ …         │\n",
       "│ 12063885  ┆ 580100982 ┆ 168440562 ┆ 2023-05-1 ┆ … ┆ [80968,   ┆ [121825]  ┆ false    ┆ [0, 0, …  │\n",
       "│           ┆           ┆ 5         ┆ 8         ┆   ┆ 83923, …  ┆           ┆          ┆ 0]        │\n",
       "│           ┆           ┆           ┆ 10:27:05  ┆   ┆ 122077]   ┆           ┆          ┆           │\n",
       "│ 12063886  ┆ 580100984 ┆ 168440583 ┆ 2023-05-1 ┆ … ┆ [93279,   ┆ [115371]  ┆ false    ┆ [0, 0, …  │\n",
       "│           ┆           ┆ 9         ┆ 8         ┆   ┆ 80968, …  ┆           ┆          ┆ 1]        │\n",
       "│           ┆           ┆           ┆ 10:30:39  ┆   ┆ 115371]   ┆           ┆          ┆           │\n",
       "│ 12063887  ┆ 580100987 ┆ 168440564 ┆ 2023-05-1 ┆ … ┆ [112546,  ┆ [117165]  ┆ false    ┆ [0, 0, …  │\n",
       "│           ┆           ┆ 8         ┆ 8         ┆   ┆ 88472, …  ┆           ┆          ┆ 0]        │\n",
       "│           ┆           ┆           ┆ 10:27:28  ┆   ┆ 93279]    ┆           ┆          ┆           │\n",
       "│ 12063888  ┆ 580100996 ┆ 168440449 ┆ 2023-05-1 ┆ … ┆ [121911,  ┆ [122084]  ┆ false    ┆ [0, 1, …  │\n",
       "│           ┆           ┆ 8         ┆ 8         ┆   ┆ 122084, … ┆           ┆          ┆ 0]        │\n",
       "│           ┆           ┆           ┆ 10:08:18  ┆   ┆ 122086]   ┆           ┆          ┆           │\n",
       "│ 12063889  ┆ 580101002 ┆ 168440575 ┆ 2023-05-1 ┆ … ┆ [122031,  ┆ [122073]  ┆ false    ┆ [0, 0, …  │\n",
       "│           ┆           ┆ 0         ┆ 8         ┆   ┆ 122098, … ┆           ┆          ┆ 0]        │\n",
       "│           ┆           ┆           ┆ 10:29:10  ┆   ┆ 121825]   ┆           ┆          ┆           │\n",
       "└───────────┴───────────┴───────────┴───────────┴───┴───────────┴───────────┴──────────┴───────────┘"
      ]
     },
     "metadata": {},
     "output_type": "display_data"
    },
    {
     "data": {
      "text/plain": [
       "1.369114300236106"
      ]
     },
     "metadata": {},
     "output_type": "display_data"
    }
   ],
   "source": [
    "df = pl.read_parquet(\n",
    "    PREPROCESS_DIR / \"v0300_impressions\" / \"train\" / \"dataset.parquet\",\n",
    ")\n",
    "display(\n",
    "    df,\n",
    "    df.estimated_size(\"gb\"),\n",
    ")"
   ]
  },
  {
   "cell_type": "code",
   "execution_count": 7,
   "metadata": {},
   "outputs": [
    {
     "data": {
      "text/html": [
       "<div><style>\n",
       ".dataframe > thead > tr,\n",
       ".dataframe > tbody > tr {\n",
       "  text-align: right;\n",
       "  white-space: pre-wrap;\n",
       "}\n",
       "</style>\n",
       "<small>shape: (12_063_890, 2)</small><table border=\"1\" class=\"dataframe\"><thead><tr><th>impression_index</th><th>num_impressions</th></tr><tr><td>i32</td><td>i16</td></tr></thead><tbody><tr><td>0</td><td>26</td></tr><tr><td>1</td><td>26</td></tr><tr><td>2</td><td>26</td></tr><tr><td>3</td><td>26</td></tr><tr><td>4</td><td>26</td></tr><tr><td>&hellip;</td><td>&hellip;</td></tr><tr><td>12063885</td><td>10</td></tr><tr><td>12063886</td><td>10</td></tr><tr><td>12063887</td><td>10</td></tr><tr><td>12063888</td><td>20</td></tr><tr><td>12063889</td><td>7</td></tr></tbody></table></div>"
      ],
      "text/plain": [
       "shape: (12_063_890, 2)\n",
       "┌──────────────────┬─────────────────┐\n",
       "│ impression_index ┆ num_impressions │\n",
       "│ ---              ┆ ---             │\n",
       "│ i32              ┆ i16             │\n",
       "╞══════════════════╪═════════════════╡\n",
       "│ 0                ┆ 26              │\n",
       "│ 1                ┆ 26              │\n",
       "│ 2                ┆ 26              │\n",
       "│ 3                ┆ 26              │\n",
       "│ 4                ┆ 26              │\n",
       "│ …                ┆ …               │\n",
       "│ 12063885         ┆ 10              │\n",
       "│ 12063886         ┆ 10              │\n",
       "│ 12063887         ┆ 10              │\n",
       "│ 12063888         ┆ 20              │\n",
       "│ 12063889         ┆ 7               │\n",
       "└──────────────────┴─────────────────┘"
      ]
     },
     "metadata": {},
     "output_type": "display_data"
    },
    {
     "data": {
      "text/plain": [
       "0.06741223856806755"
      ]
     },
     "metadata": {},
     "output_type": "display_data"
    }
   ],
   "source": [
    "df = pl.concat(\n",
    "    [\n",
    "        pl.read_parquet(\n",
    "            PREPROCESS_DIR / \"v0301_imp_counts_per_user\" / \"train\" / \"dataset.parquet\"\n",
    "        ),\n",
    "    ],\n",
    "    how=\"horizontal\",\n",
    ")\n",
    "display(\n",
    "    df,\n",
    "    df.estimated_size(\"gb\"),\n",
    ")"
   ]
  },
  {
   "cell_type": "code",
   "execution_count": null,
   "metadata": {},
   "outputs": [],
   "source": []
  }
 ],
 "metadata": {
  "kernelspec": {
   "display_name": ".venv",
   "language": "python",
   "name": "python3"
  },
  "language_info": {
   "codemirror_mode": {
    "name": "ipython",
    "version": 3
   },
   "file_extension": ".py",
   "mimetype": "text/x-python",
   "name": "python",
   "nbconvert_exporter": "python",
   "pygments_lexer": "ipython3",
   "version": "3.10.10"
  }
 },
 "nbformat": 4,
 "nbformat_minor": 2
}
