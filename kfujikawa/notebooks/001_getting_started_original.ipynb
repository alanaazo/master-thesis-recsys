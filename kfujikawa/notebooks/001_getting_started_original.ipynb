{
 "cells": [
  {
   "cell_type": "markdown",
   "metadata": {},
   "source": [
    "# Getting started with the EB-NeRD"
   ]
  },
  {
   "cell_type": "code",
   "execution_count": 1,
   "metadata": {},
   "outputs": [],
   "source": [
    "from pathlib import Path\n",
    "import polars as pl\n",
    "\n",
    "from ebrec.utils._descriptive_analysis import (\n",
    "    min_max_impression_time_behaviors,\n",
    "    min_max_impression_time_history,\n",
    ")\n",
    "from ebrec.utils._polars import slice_join_dataframes\n",
    "from ebrec.utils._behaviors import (\n",
    "    create_binary_labels_column,\n",
    "    sampling_strategy_wu2019,\n",
    "    truncate_history,\n",
    ")\n",
    "from ebrec.utils._constants import (\n",
    "    DEFAULT_HISTORY_ARTICLE_ID_COL,\n",
    "    DEFAULT_CLICKED_ARTICLES_COL,\n",
    "    DEFAULT_INVIEW_ARTICLES_COL,\n",
    "    DEFAULT_USER_COL,\n",
    ")\n",
    "from exputils.const import DATA_DIR"
   ]
  },
  {
   "cell_type": "markdown",
   "metadata": {},
   "source": [
    "## Load dataset:"
   ]
  },
  {
   "cell_type": "code",
   "execution_count": 2,
   "metadata": {},
   "outputs": [],
   "source": [
    "data_dirs = {\n",
    "    \"train\": DATA_DIR / \"ebnerd\" / \"train\",\n",
    "    \"validation\": DATA_DIR / \"ebnerd\" / \"validation\",\n",
    "    \"test\": DATA_DIR / \"ebnerd\" / \"ebnerd_testset\" / \"test\",\n",
    "}\n",
    "data_split = \"train\""
   ]
  },
  {
   "cell_type": "code",
   "execution_count": 3,
   "metadata": {},
   "outputs": [],
   "source": [
    "df_behaviors = pl.scan_parquet(data_dirs[data_split] / \"behaviors.parquet\")\n",
    "df_history = pl.scan_parquet(data_dirs[data_split] / \"history.parquet\")"
   ]
  },
  {
   "cell_type": "markdown",
   "metadata": {},
   "source": [
    "### Check min/max time-stamps in the data-split period"
   ]
  },
  {
   "cell_type": "code",
   "execution_count": 4,
   "metadata": {},
   "outputs": [
    {
     "name": "stdout",
     "output_type": "stream",
     "text": [
      "History: shape: (1, 2)\n",
      "┌─────────────────────┬─────────────────────┐\n",
      "│ min                 ┆ max                 │\n",
      "│ ---                 ┆ ---                 │\n",
      "│ datetime[μs]        ┆ datetime[μs]        │\n",
      "╞═════════════════════╪═════════════════════╡\n",
      "│ 2023-04-27 07:00:00 ┆ 2023-05-18 06:59:59 │\n",
      "└─────────────────────┴─────────────────────┘\n",
      "Behaviors: shape: (1, 2)\n",
      "┌─────────────────────┬─────────────────────┐\n",
      "│ min                 ┆ max                 │\n",
      "│ ---                 ┆ ---                 │\n",
      "│ datetime[μs]        ┆ datetime[μs]        │\n",
      "╞═════════════════════╪═════════════════════╡\n",
      "│ 2023-05-18 07:00:00 ┆ 2023-05-25 06:59:59 │\n",
      "└─────────────────────┴─────────────────────┘\n"
     ]
    }
   ],
   "source": [
    "print(f\"History: {min_max_impression_time_history(df_history).collect()}\")\n",
    "print(f\"Behaviors: {min_max_impression_time_behaviors(df_behaviors).collect()}\")"
   ]
  },
  {
   "cell_type": "markdown",
   "metadata": {},
   "source": [
    "## Add History to Behaviors"
   ]
  },
  {
   "cell_type": "code",
   "execution_count": 5,
   "metadata": {},
   "outputs": [
    {
     "data": {
      "text/html": [
       "<div><style>\n",
       ".dataframe > thead > tr,\n",
       ".dataframe > tbody > tr {\n",
       "  text-align: right;\n",
       "  white-space: pre-wrap;\n",
       "}\n",
       "</style>\n",
       "<small>shape: (5, 2)</small><table border=\"1\" class=\"dataframe\"><thead><tr><th>user_id</th><th>article_id_fixed</th></tr><tr><td>u32</td><td>list[i32]</td></tr></thead><tbody><tr><td>10029</td><td>[9768708, 9768790, … 9770541]</td></tr><tr><td>10033</td><td>[9768802, 9767765, … 9769404]</td></tr><tr><td>10034</td><td>[9756899, 9764579, … 9767363]</td></tr><tr><td>10041</td><td>[9758866, 9758858, … 9757869]</td></tr><tr><td>10103</td><td>[9759929, 9760528, … 9769433]</td></tr></tbody></table></div>"
      ],
      "text/plain": [
       "shape: (5, 2)\n",
       "┌─────────┬───────────────────────────────┐\n",
       "│ user_id ┆ article_id_fixed              │\n",
       "│ ---     ┆ ---                           │\n",
       "│ u32     ┆ list[i32]                     │\n",
       "╞═════════╪═══════════════════════════════╡\n",
       "│ 10029   ┆ [9768708, 9768790, … 9770541] │\n",
       "│ 10033   ┆ [9768802, 9767765, … 9769404] │\n",
       "│ 10034   ┆ [9756899, 9764579, … 9767363] │\n",
       "│ 10041   ┆ [9758866, 9758858, … 9757869] │\n",
       "│ 10103   ┆ [9759929, 9760528, … 9769433] │\n",
       "└─────────┴───────────────────────────────┘"
      ]
     },
     "execution_count": 5,
     "metadata": {},
     "output_type": "execute_result"
    }
   ],
   "source": [
    "df_history = df_history.select(DEFAULT_USER_COL, DEFAULT_HISTORY_ARTICLE_ID_COL).pipe(\n",
    "    truncate_history,\n",
    "    column=DEFAULT_HISTORY_ARTICLE_ID_COL,\n",
    "    history_size=30,\n",
    "    padding_value=0,\n",
    "    enable_warning=False,\n",
    ")\n",
    "df_history.head(5).collect()"
   ]
  },
  {
   "cell_type": "code",
   "execution_count": 6,
   "metadata": {},
   "outputs": [
    {
     "data": {
      "text/html": [
       "<div><style>\n",
       ".dataframe > thead > tr,\n",
       ".dataframe > tbody > tr {\n",
       "  text-align: right;\n",
       "  white-space: pre-wrap;\n",
       "}\n",
       "</style>\n",
       "<small>shape: (5, 18)</small><table border=\"1\" class=\"dataframe\"><thead><tr><th>impression_id</th><th>article_id</th><th>impression_time</th><th>read_time</th><th>scroll_percentage</th><th>device_type</th><th>article_ids_inview</th><th>article_ids_clicked</th><th>user_id</th><th>is_sso_user</th><th>gender</th><th>postcode</th><th>age</th><th>is_subscriber</th><th>session_id</th><th>next_read_time</th><th>next_scroll_percentage</th><th>article_id_fixed</th></tr><tr><td>u32</td><td>i32</td><td>datetime[μs]</td><td>f32</td><td>f32</td><td>i8</td><td>list[i32]</td><td>list[i32]</td><td>u32</td><td>bool</td><td>i8</td><td>i8</td><td>i8</td><td>bool</td><td>u32</td><td>f32</td><td>f32</td><td>list[i32]</td></tr></thead><tbody><tr><td>47727</td><td>null</td><td>2023-05-21 21:35:07</td><td>20.0</td><td>null</td><td>1</td><td>[9482380, 9775183, … 9538375]</td><td>[9775183]</td><td>18293</td><td>false</td><td>null</td><td>null</td><td>null</td><td>false</td><td>265</td><td>34.0</td><td>100.0</td><td>[9766452, 9766419, … 9768850]</td></tr><tr><td>47731</td><td>null</td><td>2023-05-21 21:32:33</td><td>13.0</td><td>null</td><td>1</td><td>[9774557, 9774516, … 9759966]</td><td>[9759966]</td><td>18293</td><td>false</td><td>null</td><td>null</td><td>null</td><td>false</td><td>265</td><td>45.0</td><td>100.0</td><td>[9766452, 9766419, … 9768850]</td></tr><tr><td>47736</td><td>null</td><td>2023-05-21 21:33:32</td><td>17.0</td><td>null</td><td>1</td><td>[9759966, 9774557, … 9775323]</td><td>[9774652]</td><td>18293</td><td>false</td><td>null</td><td>null</td><td>null</td><td>false</td><td>265</td><td>78.0</td><td>100.0</td><td>[9766452, 9766419, … 9768850]</td></tr><tr><td>47737</td><td>null</td><td>2023-05-21 21:38:17</td><td>27.0</td><td>null</td><td>1</td><td>[9774580, 9775131, … 9774899]</td><td>[9775184]</td><td>18293</td><td>false</td><td>null</td><td>null</td><td>null</td><td>false</td><td>265</td><td>6.0</td><td>52.0</td><td>[9766452, 9766419, … 9768850]</td></tr><tr><td>47740</td><td>null</td><td>2023-05-21 21:36:02</td><td>48.0</td><td>null</td><td>1</td><td>[9774826, 9775171, … 9774648]</td><td>[9774648]</td><td>18293</td><td>false</td><td>null</td><td>null</td><td>null</td><td>false</td><td>265</td><td>32.0</td><td>100.0</td><td>[9766452, 9766419, … 9768850]</td></tr></tbody></table></div>"
      ],
      "text/plain": [
       "shape: (5, 18)\n",
       "┌───────────┬───────────┬───────────┬───────────┬───┬───────────┬───────────┬───────────┬──────────┐\n",
       "│ impressio ┆ article_i ┆ impressio ┆ read_time ┆ … ┆ session_i ┆ next_read ┆ next_scro ┆ article_ │\n",
       "│ n_id      ┆ d         ┆ n_time    ┆ ---       ┆   ┆ d         ┆ _time     ┆ ll_percen ┆ id_fixed │\n",
       "│ ---       ┆ ---       ┆ ---       ┆ f32       ┆   ┆ ---       ┆ ---       ┆ tage      ┆ ---      │\n",
       "│ u32       ┆ i32       ┆ datetime[ ┆           ┆   ┆ u32       ┆ f32       ┆ ---       ┆ list[i32 │\n",
       "│           ┆           ┆ μs]       ┆           ┆   ┆           ┆           ┆ f32       ┆ ]        │\n",
       "╞═══════════╪═══════════╪═══════════╪═══════════╪═══╪═══════════╪═══════════╪═══════════╪══════════╡\n",
       "│ 47727     ┆ null      ┆ 2023-05-2 ┆ 20.0      ┆ … ┆ 265       ┆ 34.0      ┆ 100.0     ┆ [9766452 │\n",
       "│           ┆           ┆ 1         ┆           ┆   ┆           ┆           ┆           ┆ ,        │\n",
       "│           ┆           ┆ 21:35:07  ┆           ┆   ┆           ┆           ┆           ┆ 9766419, │\n",
       "│           ┆           ┆           ┆           ┆   ┆           ┆           ┆           ┆ …        │\n",
       "│           ┆           ┆           ┆           ┆   ┆           ┆           ┆           ┆ 9768850] │\n",
       "│ 47731     ┆ null      ┆ 2023-05-2 ┆ 13.0      ┆ … ┆ 265       ┆ 45.0      ┆ 100.0     ┆ [9766452 │\n",
       "│           ┆           ┆ 1         ┆           ┆   ┆           ┆           ┆           ┆ ,        │\n",
       "│           ┆           ┆ 21:32:33  ┆           ┆   ┆           ┆           ┆           ┆ 9766419, │\n",
       "│           ┆           ┆           ┆           ┆   ┆           ┆           ┆           ┆ …        │\n",
       "│           ┆           ┆           ┆           ┆   ┆           ┆           ┆           ┆ 9768850] │\n",
       "│ 47736     ┆ null      ┆ 2023-05-2 ┆ 17.0      ┆ … ┆ 265       ┆ 78.0      ┆ 100.0     ┆ [9766452 │\n",
       "│           ┆           ┆ 1         ┆           ┆   ┆           ┆           ┆           ┆ ,        │\n",
       "│           ┆           ┆ 21:33:32  ┆           ┆   ┆           ┆           ┆           ┆ 9766419, │\n",
       "│           ┆           ┆           ┆           ┆   ┆           ┆           ┆           ┆ …        │\n",
       "│           ┆           ┆           ┆           ┆   ┆           ┆           ┆           ┆ 9768850] │\n",
       "│ 47737     ┆ null      ┆ 2023-05-2 ┆ 27.0      ┆ … ┆ 265       ┆ 6.0       ┆ 52.0      ┆ [9766452 │\n",
       "│           ┆           ┆ 1         ┆           ┆   ┆           ┆           ┆           ┆ ,        │\n",
       "│           ┆           ┆ 21:38:17  ┆           ┆   ┆           ┆           ┆           ┆ 9766419, │\n",
       "│           ┆           ┆           ┆           ┆   ┆           ┆           ┆           ┆ …        │\n",
       "│           ┆           ┆           ┆           ┆   ┆           ┆           ┆           ┆ 9768850] │\n",
       "│ 47740     ┆ null      ┆ 2023-05-2 ┆ 48.0      ┆ … ┆ 265       ┆ 32.0      ┆ 100.0     ┆ [9766452 │\n",
       "│           ┆           ┆ 1         ┆           ┆   ┆           ┆           ┆           ┆ ,        │\n",
       "│           ┆           ┆ 21:36:02  ┆           ┆   ┆           ┆           ┆           ┆ 9766419, │\n",
       "│           ┆           ┆           ┆           ┆   ┆           ┆           ┆           ┆ …        │\n",
       "│           ┆           ┆           ┆           ┆   ┆           ┆           ┆           ┆ 9768850] │\n",
       "└───────────┴───────────┴───────────┴───────────┴───┴───────────┴───────────┴───────────┴──────────┘"
      ]
     },
     "execution_count": 6,
     "metadata": {},
     "output_type": "execute_result"
    }
   ],
   "source": [
    "df = slice_join_dataframes(\n",
    "    df1=df_behaviors.collect(),\n",
    "    df2=df_history.collect(),\n",
    "    on=DEFAULT_USER_COL,\n",
    "    how=\"left\",\n",
    ")\n",
    "df.head(5)"
   ]
  },
  {
   "cell_type": "markdown",
   "metadata": {},
   "source": [
    "## Generate labels\n",
    "\n",
    "Here's an example how to generate binary labels based on article_ids_clicked and article_ids_inview"
   ]
  },
  {
   "cell_type": "code",
   "execution_count": 7,
   "metadata": {},
   "outputs": [
    {
     "data": {
      "text/html": [
       "<div><style>\n",
       ".dataframe > thead > tr,\n",
       ".dataframe > tbody > tr {\n",
       "  text-align: right;\n",
       "  white-space: pre-wrap;\n",
       "}\n",
       "</style>\n",
       "<small>shape: (5, 4)</small><table border=\"1\" class=\"dataframe\"><thead><tr><th>article_ids_clicked</th><th>article_ids_inview</th><th>labels</th><th>labels_len</th></tr><tr><td>list[i32]</td><td>list[i32]</td><td>list[i8]</td><td>u32</td></tr></thead><tbody><tr><td>[9775183]</td><td>[9482380, 9774020, … 9775183]</td><td>[0, 0, … 1]</td><td>6</td></tr><tr><td>[9759966]</td><td>[9775331, 9774516, … 9774557]</td><td>[0, 0, … 0]</td><td>5</td></tr><tr><td>[9774652]</td><td>[9746360, 9738729, … 9774079]</td><td>[0, 0, … 0]</td><td>13</td></tr><tr><td>[9775184]</td><td>[9775131, 9775283, … 9774789]</td><td>[0, 0, … 0]</td><td>11</td></tr><tr><td>[9774648]</td><td>[9774555, 9774648, … 9775056]</td><td>[0, 1, … 0]</td><td>9</td></tr></tbody></table></div>"
      ],
      "text/plain": [
       "shape: (5, 4)\n",
       "┌─────────────────────┬───────────────────────────────┬─────────────┬────────────┐\n",
       "│ article_ids_clicked ┆ article_ids_inview            ┆ labels      ┆ labels_len │\n",
       "│ ---                 ┆ ---                           ┆ ---         ┆ ---        │\n",
       "│ list[i32]           ┆ list[i32]                     ┆ list[i8]    ┆ u32        │\n",
       "╞═════════════════════╪═══════════════════════════════╪═════════════╪════════════╡\n",
       "│ [9775183]           ┆ [9482380, 9774020, … 9775183] ┆ [0, 0, … 1] ┆ 6          │\n",
       "│ [9759966]           ┆ [9775331, 9774516, … 9774557] ┆ [0, 0, … 0] ┆ 5          │\n",
       "│ [9774652]           ┆ [9746360, 9738729, … 9774079] ┆ [0, 0, … 0] ┆ 13         │\n",
       "│ [9775184]           ┆ [9775131, 9775283, … 9774789] ┆ [0, 0, … 0] ┆ 11         │\n",
       "│ [9774648]           ┆ [9774555, 9774648, … 9775056] ┆ [0, 1, … 0] ┆ 9          │\n",
       "└─────────────────────┴───────────────────────────────┴─────────────┴────────────┘"
      ]
     },
     "execution_count": 7,
     "metadata": {},
     "output_type": "execute_result"
    }
   ],
   "source": [
    "df.select(DEFAULT_CLICKED_ARTICLES_COL, DEFAULT_INVIEW_ARTICLES_COL).pipe(\n",
    "    create_binary_labels_column, shuffle=True, seed=123\n",
    ").with_columns(pl.col(\"labels\").list.len().name.suffix(\"_len\")).head(5)"
   ]
  },
  {
   "cell_type": "markdown",
   "metadata": {},
   "source": [
    "An example using the downsample strategy employed by Wu et al."
   ]
  },
  {
   "cell_type": "code",
   "execution_count": 8,
   "metadata": {},
   "outputs": [
    {
     "data": {
      "text/html": [
       "<div><style>\n",
       ".dataframe > thead > tr,\n",
       ".dataframe > tbody > tr {\n",
       "  text-align: right;\n",
       "  white-space: pre-wrap;\n",
       "}\n",
       "</style>\n",
       "<small>shape: (5, 4)</small><table border=\"1\" class=\"dataframe\"><thead><tr><th>article_ids_clicked</th><th>article_ids_inview</th><th>labels</th><th>labels_len</th></tr><tr><td>list[i64]</td><td>list[i64]</td><td>list[i8]</td><td>u32</td></tr></thead><tbody><tr><td>[9775183]</td><td>[9775183, 9775297, 9538375]</td><td>[1, 0, 0]</td><td>3</td></tr><tr><td>[9759966]</td><td>[9759966, 9774516, 9775277]</td><td>[1, 0, 0]</td><td>3</td></tr><tr><td>[9774652]</td><td>[9772300, 9774652, 9775323]</td><td>[0, 1, 0]</td><td>3</td></tr><tr><td>[9775184]</td><td>[9774972, 9774899, 9775184]</td><td>[0, 0, 1]</td><td>3</td></tr><tr><td>[9774648]</td><td>[9774648, 9769624, 9772275]</td><td>[1, 0, 0]</td><td>3</td></tr></tbody></table></div>"
      ],
      "text/plain": [
       "shape: (5, 4)\n",
       "┌─────────────────────┬─────────────────────────────┬───────────┬────────────┐\n",
       "│ article_ids_clicked ┆ article_ids_inview          ┆ labels    ┆ labels_len │\n",
       "│ ---                 ┆ ---                         ┆ ---       ┆ ---        │\n",
       "│ list[i64]           ┆ list[i64]                   ┆ list[i8]  ┆ u32        │\n",
       "╞═════════════════════╪═════════════════════════════╪═══════════╪════════════╡\n",
       "│ [9775183]           ┆ [9775183, 9775297, 9538375] ┆ [1, 0, 0] ┆ 3          │\n",
       "│ [9759966]           ┆ [9759966, 9774516, 9775277] ┆ [1, 0, 0] ┆ 3          │\n",
       "│ [9774652]           ┆ [9772300, 9774652, 9775323] ┆ [0, 1, 0] ┆ 3          │\n",
       "│ [9775184]           ┆ [9774972, 9774899, 9775184] ┆ [0, 0, 1] ┆ 3          │\n",
       "│ [9774648]           ┆ [9774648, 9769624, 9772275] ┆ [1, 0, 0] ┆ 3          │\n",
       "└─────────────────────┴─────────────────────────────┴───────────┴────────────┘"
      ]
     },
     "execution_count": 8,
     "metadata": {},
     "output_type": "execute_result"
    }
   ],
   "source": [
    "NPRATIO = 2\n",
    "df.select(DEFAULT_CLICKED_ARTICLES_COL, DEFAULT_INVIEW_ARTICLES_COL).pipe(\n",
    "    sampling_strategy_wu2019,\n",
    "    npratio=NPRATIO,\n",
    "    shuffle=False,\n",
    "    with_replacement=True,\n",
    "    seed=123,\n",
    ").pipe(create_binary_labels_column, shuffle=True, seed=123).with_columns(\n",
    "    pl.col(\"labels\").list.len().name.suffix(\"_len\")\n",
    ").head(5)"
   ]
  },
  {
   "cell_type": "code",
   "execution_count": null,
   "metadata": {},
   "outputs": [],
   "source": []
  }
 ],
 "metadata": {
  "kernelspec": {
   "display_name": ".venv",
   "language": "python",
   "name": "python3"
  },
  "language_info": {
   "codemirror_mode": {
    "name": "ipython",
    "version": 3
   },
   "file_extension": ".py",
   "mimetype": "text/x-python",
   "name": "python",
   "nbconvert_exporter": "python",
   "pygments_lexer": "ipython3",
   "version": "3.10.10"
  }
 },
 "nbformat": 4,
 "nbformat_minor": 2
}
